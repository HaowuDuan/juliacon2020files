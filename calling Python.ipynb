{
 "cells": [
  {
   "cell_type": "markdown",
   "metadata": {},
   "source": [
    "The goal of this notebook is to show you how you can use pre-existing code you have already written in python, or how to use a functionality in Python or a Python package that is not yet available in Julia. We'll start by first running a small python code from here.\n",
    "\n",
    "We will make use of the `PyCall.jl` package."
   ]
  },
  {
   "cell_type": "code",
   "execution_count": 1,
   "metadata": {},
   "outputs": [],
   "source": [
    "using PyCall"
   ]
  },
  {
   "cell_type": "code",
   "execution_count": 2,
   "metadata": {},
   "outputs": [
    {
     "data": {
      "text/plain": [
       "2"
      ]
     },
     "execution_count": 2,
     "metadata": {},
     "output_type": "execute_result"
    }
   ],
   "source": [
    "py\"\"\"1+1\"\"\""
   ]
  },
  {
   "cell_type": "markdown",
   "metadata": {},
   "source": [
    "The above line ran Python in the background. We can write any Python code here in the same format."
   ]
  },
  {
   "cell_type": "code",
   "execution_count": 11,
   "metadata": {},
   "outputs": [
    {
     "data": {
      "text/plain": [
       "PyObject <function py_sum2 at 0x1330420e0>"
      ]
     },
     "execution_count": 11,
     "metadata": {},
     "output_type": "execute_result"
    }
   ],
   "source": [
    "py\"\"\"\n",
    "def py_sum2(A):\n",
    "    s = 0.0\n",
    "    for a in A:\n",
    "        s += a\n",
    "    return s\n",
    "\"\"\"\n",
    "sum_py = py\"py_sum2\""
   ]
  },
  {
   "cell_type": "code",
   "execution_count": 12,
   "metadata": {},
   "outputs": [
    {
     "data": {
      "text/plain": [
       "PyObject"
      ]
     },
     "execution_count": 12,
     "metadata": {},
     "output_type": "execute_result"
    }
   ],
   "source": [
    "typeof(sum_py)"
   ]
  },
  {
   "cell_type": "code",
   "execution_count": 14,
   "metadata": {},
   "outputs": [
    {
     "name": "stdout",
     "output_type": "stream",
     "text": [
      "sum_py(v) = 490.1207953503426\n",
      "sum(v) = 490.1207953503425\n"
     ]
    },
    {
     "data": {
      "text/plain": [
       "490.1207953503425"
      ]
     },
     "execution_count": 14,
     "metadata": {},
     "output_type": "execute_result"
    }
   ],
   "source": [
    "v = rand(1000)\n",
    "@show sum_py(v)\n",
    "@show sum(v)"
   ]
  },
  {
   "cell_type": "markdown",
   "metadata": {},
   "source": [
    "Now let's say you want to call some method from a previous Python code you've written in the past.\n",
    "Let's say the file is `pythonsum.py`"
   ]
  },
  {
   "cell_type": "code",
   "execution_count": 15,
   "metadata": {},
   "outputs": [
    {
     "ename": "PyCall.PyError",
     "evalue": "PyError (PyImport_ImportModule\n\nThe Python package pythonsum could not be found by pyimport. Usually this means\nthat you did not install pythonsum in the Python version being used by PyCall.\n\nPyCall is currently configured to use the Python version at:\n\n/opt/anaconda3/bin/python\n\nand you should use whatever mechanism you usually use (apt-get, pip, conda,\netcetera) to install the Python package containing the pythonsum module.\n\nOne alternative is to re-configure PyCall to use a different Python\nversion on your system: set ENV[\"PYTHON\"] to the path/name of the python\nexecutable you want to use, run Pkg.build(\"PyCall\"), and re-launch Julia.\n\nAnother alternative is to configure PyCall to use a Julia-specific Python\ndistribution via the Conda.jl package (which installs a private Anaconda\nPython distribution), which has the advantage that packages can be installed\nand kept up-to-date via Julia.  As explained in the PyCall documentation,\nset ENV[\"PYTHON\"]=\"\", run Pkg.build(\"PyCall\"), and re-launch Julia. Then,\nTo install the pythonsum module, you can use `pyimport_conda(\"pythonsum\", PKG)`,\nwhere PKG is the Anaconda package the contains the module pythonsum,\nor alternatively you can use the Conda package directly (via\n`using Conda` followed by `Conda.add` etcetera).\n\n) <class 'ModuleNotFoundError'>\nModuleNotFoundError(\"No module named 'pythonsum'\")\n",
     "output_type": "error",
     "traceback": [
      "PyError (PyImport_ImportModule\n\nThe Python package pythonsum could not be found by pyimport. Usually this means\nthat you did not install pythonsum in the Python version being used by PyCall.\n\nPyCall is currently configured to use the Python version at:\n\n/opt/anaconda3/bin/python\n\nand you should use whatever mechanism you usually use (apt-get, pip, conda,\netcetera) to install the Python package containing the pythonsum module.\n\nOne alternative is to re-configure PyCall to use a different Python\nversion on your system: set ENV[\"PYTHON\"] to the path/name of the python\nexecutable you want to use, run Pkg.build(\"PyCall\"), and re-launch Julia.\n\nAnother alternative is to configure PyCall to use a Julia-specific Python\ndistribution via the Conda.jl package (which installs a private Anaconda\nPython distribution), which has the advantage that packages can be installed\nand kept up-to-date via Julia.  As explained in the PyCall documentation,\nset ENV[\"PYTHON\"]=\"\", run Pkg.build(\"PyCall\"), and re-launch Julia. Then,\nTo install the pythonsum module, you can use `pyimport_conda(\"pythonsum\", PKG)`,\nwhere PKG is the Anaconda package the contains the module pythonsum,\nor alternatively you can use the Conda package directly (via\n`using Conda` followed by `Conda.add` etcetera).\n\n) <class 'ModuleNotFoundError'>\nModuleNotFoundError(\"No module named 'pythonsum'\")\n",
      "",
      "Stacktrace:",
      " [1] pyimport(::String) at /Users/hnassar/.julia/packages/PyCall/zqDXB/src/PyCall.jl:536",
      " [2] top-level scope at In[15]:1"
     ]
    }
   ],
   "source": [
    "python_sum = pyimport(\"pythonsum\")"
   ]
  },
  {
   "cell_type": "code",
   "execution_count": 16,
   "metadata": {},
   "outputs": [
    {
     "data": {
      "text/plain": [
       "PyObject <module 'pythonsum' from '/Users/hnassar/Dropbox/juliacon2020/pythonsum.py'>"
      ]
     },
     "execution_count": 16,
     "metadata": {},
     "output_type": "execute_result"
    }
   ],
   "source": [
    "pushfirst!(PyVector(pyimport(\"sys\").\"path\"), \"\") #to tell pyimport search in the local directory\n",
    "python_sum = pyimport(\"pythonsum\")"
   ]
  },
  {
   "cell_type": "code",
   "execution_count": 18,
   "metadata": {},
   "outputs": [
    {
     "data": {
      "text/plain": [
       "490.1207953503426"
      ]
     },
     "execution_count": 18,
     "metadata": {},
     "output_type": "execute_result"
    }
   ],
   "source": [
    "python_sum.py_sum(v) #PyObjectvarname.functionname"
   ]
  },
  {
   "cell_type": "markdown",
   "metadata": {},
   "source": [
    "You can also import Python libraries."
   ]
  },
  {
   "cell_type": "code",
   "execution_count": 19,
   "metadata": {},
   "outputs": [
    {
     "data": {
      "text/plain": [
       "PyObject <module 'numpy' from '/opt/anaconda3/lib/python3.7/site-packages/numpy/__init__.py'>"
      ]
     },
     "execution_count": 19,
     "metadata": {},
     "output_type": "execute_result"
    }
   ],
   "source": [
    "importednumpy = pyimport(\"numpy\")"
   ]
  },
  {
   "cell_type": "markdown",
   "metadata": {},
   "source": [
    "And now you will get all the numpy functionality..."
   ]
  },
  {
   "cell_type": "code",
   "execution_count": 20,
   "metadata": {},
   "outputs": [
    {
     "data": {
      "text/plain": [
       "490.12079535034263"
      ]
     },
     "execution_count": 20,
     "metadata": {},
     "output_type": "execute_result"
    }
   ],
   "source": [
    "importednumpy.sum(v)"
   ]
  },
  {
   "cell_type": "markdown",
   "metadata": {},
   "source": [
    "There is another package that can come handy here. The `ScikitLearn` package. Let's give it a try. Just picked a random example from here: https://scikit-learn.org/stable/modules/clustering.html#mean-shift\n",
    "```\n",
    ">>> from sklearn.metrics.cluster import contingency_matrix\n",
    ">>> x = [\"a\", \"a\", \"a\", \"b\", \"b\", \"b\"]\n",
    ">>> y = [0, 0, 1, 1, 2, 2]\n",
    ">>> contingency_matrix(x, y)\n",
    "array([[2, 1, 0],\n",
    "       [0, 1, 2]])\n",
    "\n",
    "```"
   ]
  },
  {
   "cell_type": "code",
   "execution_count": 21,
   "metadata": {},
   "outputs": [],
   "source": [
    "using ScikitLearn\n",
    "@sk_import metrics.cluster : contingency_matrix"
   ]
  },
  {
   "cell_type": "code",
   "execution_count": 25,
   "metadata": {},
   "outputs": [
    {
     "data": {
      "text/plain": [
       "2×3 Array{Int64,2}:\n",
       " 2  1  0\n",
       " 0  1  2"
      ]
     },
     "execution_count": 25,
     "metadata": {},
     "output_type": "execute_result"
    }
   ],
   "source": [
    "x = [\"a\", \"a\", \"a\", \"b\", \"b\", \"b\"]\n",
    "y = [0, 0, 1, 1, 2, 2]\n",
    "contingency_matrix(x, y)"
   ]
  },
  {
   "cell_type": "markdown",
   "metadata": {},
   "source": [
    "So far, we have only used simple Python code, and a very common Python package. Things might get a little more complicated when you have dependences. But we'll walk through this here. Particularly, we'll look at which version of Python Julia is using and how to make sure you have all the dependences you need.\n",
    "\n",
    "By default, PyCall will use a Julia specific Python installation. My python version I'm currently using is here `/opt/anaconda3/bin/python`. If your Python code runs fine from whichever Python installation you are using on your machine, and you want to make Julia use it, you can do the following:\n",
    "\n",
    "```\n",
    "ENV[\"PYTHON\"] = <path you want>\n",
    "using Pkg\n",
    "Pkg.build(\"PyCall\")\n",
    "```\n",
    "\n",
    "Again, if your code runs under this python installation it should now run from within Julia. Now let's say want to stick with the Julia specific installation."
   ]
  },
  {
   "cell_type": "code",
   "execution_count": 32,
   "metadata": {},
   "outputs": [
    {
     "data": {
      "text/plain": [
       "\"\""
      ]
     },
     "execution_count": 32,
     "metadata": {},
     "output_type": "execute_result"
    }
   ],
   "source": [
    "# will now move to the terminal\n",
    "# ENV[\"PYTHON\"] = \"\"\n",
    "# ]build PyCall\n",
    "# pyimport_conda(\"igraph\",\"python-igraph\",\"conda-forge\")"
   ]
  },
  {
   "cell_type": "code",
   "execution_count": 36,
   "metadata": {},
   "outputs": [
    {
     "name": "stdout",
     "output_type": "stream",
     "text": [
      "search: \u001b[0m\u001b[1mp\u001b[22m\u001b[0m\u001b[1my\u001b[22m\u001b[0m\u001b[1mi\u001b[22m\u001b[0m\u001b[1mm\u001b[22m\u001b[0m\u001b[1mp\u001b[22m\u001b[0m\u001b[1mo\u001b[22m\u001b[0m\u001b[1mr\u001b[22m\u001b[0m\u001b[1mt\u001b[22m\u001b[0m\u001b[1m_\u001b[22m\u001b[0m\u001b[1mc\u001b[22m\u001b[0m\u001b[1mo\u001b[22m\u001b[0m\u001b[1mn\u001b[22m\u001b[0m\u001b[1md\u001b[22m\u001b[0m\u001b[1ma\u001b[22m\n",
      "\n"
     ]
    },
    {
     "data": {
      "text/latex": [
       "\\begin{verbatim}\n",
       "pyimport_conda(modulename, condapkg, [channel])\n",
       "\\end{verbatim}\n",
       "Returns the result of \\texttt{pyimport(modulename)} if possible.   If the module is not found, and PyCall is configured to use the Conda Python distro (via the Julia Conda package), then automatically install \\texttt{condapkg} via \\texttt{Conda.add(condapkg)} and then re-try the \\texttt{pyimport}.   Other Anaconda-based Python installations are also supported as long as their \\texttt{conda} program is functioning.\n",
       "\n",
       "If PyCall is not using Conda and the \\texttt{pyimport} fails, throws an exception with an error message telling the user how to configure PyCall to use Conda for automated installation of the module.\n",
       "\n",
       "The third argument, \\texttt{channel} is an optional Anaconda \"channel\" to use for installing the package; this is useful for packages that are not included in the default Anaconda package listing.\n",
       "\n"
      ],
      "text/markdown": [
       "```\n",
       "pyimport_conda(modulename, condapkg, [channel])\n",
       "```\n",
       "\n",
       "Returns the result of `pyimport(modulename)` if possible.   If the module is not found, and PyCall is configured to use the Conda Python distro (via the Julia Conda package), then automatically install `condapkg` via `Conda.add(condapkg)` and then re-try the `pyimport`.   Other Anaconda-based Python installations are also supported as long as their `conda` program is functioning.\n",
       "\n",
       "If PyCall is not using Conda and the `pyimport` fails, throws an exception with an error message telling the user how to configure PyCall to use Conda for automated installation of the module.\n",
       "\n",
       "The third argument, `channel` is an optional Anaconda \"channel\" to use for installing the package; this is useful for packages that are not included in the default Anaconda package listing.\n"
      ],
      "text/plain": [
       "\u001b[36m  pyimport_conda(modulename, condapkg, [channel])\u001b[39m\n",
       "\n",
       "  Returns the result of \u001b[36mpyimport(modulename)\u001b[39m if possible. If the module is not\n",
       "  found, and PyCall is configured to use the Conda Python distro (via the\n",
       "  Julia Conda package), then automatically install \u001b[36mcondapkg\u001b[39m via\n",
       "  \u001b[36mConda.add(condapkg)\u001b[39m and then re-try the \u001b[36mpyimport\u001b[39m. Other Anaconda-based\n",
       "  Python installations are also supported as long as their \u001b[36mconda\u001b[39m program is\n",
       "  functioning.\n",
       "\n",
       "  If PyCall is not using Conda and the \u001b[36mpyimport\u001b[39m fails, throws an exception\n",
       "  with an error message telling the user how to configure PyCall to use Conda\n",
       "  for automated installation of the module.\n",
       "\n",
       "  The third argument, \u001b[36mchannel\u001b[39m is an optional Anaconda \"channel\" to use for\n",
       "  installing the package; this is useful for packages that are not included in\n",
       "  the default Anaconda package listing."
      ]
     },
     "execution_count": 36,
     "metadata": {},
     "output_type": "execute_result"
    }
   ],
   "source": [
    "?pyimport_conda"
   ]
  },
  {
   "cell_type": "markdown",
   "metadata": {},
   "source": [
    "To recap, you have control over which Python version to allow PyCall to use. If you use the Julia specific version, you get the benefit of being able to easily install packages via `pyimport_coda`. If you choose to use your own Python specific installation, make sure everything runs from Python, and you can change the location of what Python version to call from Julia via `ENV[\"PYTHON\"] = xxx`."
   ]
  },
  {
   "cell_type": "code",
   "execution_count": null,
   "metadata": {},
   "outputs": [],
   "source": []
  }
 ],
 "metadata": {
  "kernelspec": {
   "display_name": "Julia 1.4.0",
   "language": "julia",
   "name": "julia-1.4"
  },
  "language_info": {
   "file_extension": ".jl",
   "mimetype": "application/julia",
   "name": "julia",
   "version": "1.4.2"
  }
 },
 "nbformat": 4,
 "nbformat_minor": 2
}
