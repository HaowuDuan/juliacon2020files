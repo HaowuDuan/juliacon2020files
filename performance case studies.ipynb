{
 "cells": [
  {
   "cell_type": "markdown",
   "metadata": {},
   "source": [
    "In this notebook we will cover three main components that will help you write performant Julia code. We will have twenty mini case studies and each one will be tagged with one of these tags: \n",
    "- (1) Tools, \n",
    "- (2) Types, and \n",
    "- (3) Memory."
   ]
  },
  {
   "cell_type": "markdown",
   "metadata": {},
   "source": [
    "## 1️⃣ [Tools] Benchmarking\n",
    "Throughout this notebook, we will benchmark code and compare timings between functions, and we will be using the [BenchmarkTools.jl](https://github.com/JuliaCI/BenchmarkTools.jl) package.\n",
    "\n",
    "Functionality worth noting:\n",
    "- `@btime`\n",
    "- `@benchmark`\n",
    "- `BenchmarkTools.DEFAULT_PARAMETERS.samples`\n",
    "- `BenchmarkTools.DEFAULT_PARAMETERS.seconds`\n",
    "\n",
    "Let's try something out."
   ]
  },
  {
   "cell_type": "code",
   "execution_count": 1,
   "metadata": {},
   "outputs": [
    {
     "name": "stdout",
     "output_type": "stream",
     "text": [
      "  426.723 μs (1 allocation: 16 bytes)\n"
     ]
    },
    {
     "data": {
      "text/plain": [
       "577.1194584712035"
      ]
     },
     "execution_count": 1,
     "metadata": {},
     "output_type": "execute_result"
    }
   ],
   "source": [
    "using BenchmarkTools\n",
    "using LinearAlgebra\n",
    "A = rand(1000,1000)\n",
    "@btime norm(A)"
   ]
  },
  {
   "cell_type": "code",
   "execution_count": 2,
   "metadata": {},
   "outputs": [
    {
     "ename": "UndefVarError",
     "evalue": "UndefVarError: B not defined",
     "output_type": "error",
     "traceback": [
      "UndefVarError: B not defined",
      "",
      "Stacktrace:",
      " [1] ##core#267() at /Users/hnassar/.julia/packages/BenchmarkTools/eCEpo/src/execution.jl:371",
      " [2] ##sample#268(::BenchmarkTools.Parameters) at /Users/hnassar/.julia/packages/BenchmarkTools/eCEpo/src/execution.jl:377",
      " [3] _run(::BenchmarkTools.Benchmark{Symbol(\"##benchmark#266\")}, ::BenchmarkTools.Parameters; verbose::Bool, pad::String, kwargs::Base.Iterators.Pairs{Symbol,Integer,NTuple{4,Symbol},NamedTuple{(:samples, :evals, :gctrial, :gcsample),Tuple{Int64,Int64,Bool,Bool}}}) at /Users/hnassar/.julia/packages/BenchmarkTools/eCEpo/src/execution.jl:405",
      " [4] (::Base.var\"#inner#2\"{Base.Iterators.Pairs{Symbol,Integer,NTuple{5,Symbol},NamedTuple{(:verbose, :samples, :evals, :gctrial, :gcsample),Tuple{Bool,Int64,Int64,Bool,Bool}}},typeof(BenchmarkTools._run),Tuple{BenchmarkTools.Benchmark{Symbol(\"##benchmark#266\")},BenchmarkTools.Parameters}})() at ./essentials.jl:715",
      " [5] #invokelatest#1 at ./essentials.jl:716 [inlined]",
      " [6] #run_result#37 at /Users/hnassar/.julia/packages/BenchmarkTools/eCEpo/src/execution.jl:32 [inlined]",
      " [7] run(::BenchmarkTools.Benchmark{Symbol(\"##benchmark#266\")}, ::BenchmarkTools.Parameters; progressid::Nothing, nleaves::Float64, ndone::Float64, kwargs::Base.Iterators.Pairs{Symbol,Integer,NTuple{5,Symbol},NamedTuple{(:verbose, :samples, :evals, :gctrial, :gcsample),Tuple{Bool,Int64,Int64,Bool,Bool}}}) at /Users/hnassar/.julia/packages/BenchmarkTools/eCEpo/src/execution.jl:94",
      " [8] #warmup#45 at /Users/hnassar/.julia/packages/BenchmarkTools/eCEpo/src/execution.jl:141 [inlined]",
      " [9] warmup(::BenchmarkTools.Benchmark{Symbol(\"##benchmark#266\")}) at /Users/hnassar/.julia/packages/BenchmarkTools/eCEpo/src/execution.jl:141",
      " [10] macro expansion at /Users/hnassar/.julia/packages/BenchmarkTools/eCEpo/src/execution.jl:481 [inlined]",
      " [11] timing_from_a_function() at ./In[2]:3",
      " [12] top-level scope at In[2]:5"
     ]
    }
   ],
   "source": [
    "function timing_from_a_function()\n",
    "    B = rand(100,100)\n",
    "    @btime norm(B)\n",
    "end\n",
    "timing_from_a_function()"
   ]
  },
  {
   "cell_type": "code",
   "execution_count": 3,
   "metadata": {},
   "outputs": [
    {
     "name": "stdout",
     "output_type": "stream",
     "text": [
      "  2.630 μs (0 allocations: 0 bytes)\n"
     ]
    },
    {
     "data": {
      "text/plain": [
       "57.56648914144387"
      ]
     },
     "execution_count": 3,
     "metadata": {},
     "output_type": "execute_result"
    }
   ],
   "source": [
    "# notice which scope are you running the @btime macro from. \n",
    "# You will need to interpolate the variables you're passing to your functions.\n",
    "function timing_from_a_function()\n",
    "    B = rand(100,100)\n",
    "    @btime norm($B)\n",
    "end\n",
    "timing_from_a_function()"
   ]
  },
  {
   "cell_type": "code",
   "execution_count": 4,
   "metadata": {},
   "outputs": [
    {
     "data": {
      "text/plain": [
       "BenchmarkTools.Trial: \n",
       "  memory estimate:  0 bytes\n",
       "  allocs estimate:  0\n",
       "  --------------\n",
       "  minimum time:     66.541 ms (0.00% GC)\n",
       "  median time:      68.270 ms (0.00% GC)\n",
       "  mean time:        69.877 ms (0.00% GC)\n",
       "  maximum time:     90.509 ms (0.00% GC)\n",
       "  --------------\n",
       "  samples:          72\n",
       "  evals/sample:     1"
      ]
     },
     "execution_count": 4,
     "metadata": {},
     "output_type": "execute_result"
    }
   ],
   "source": [
    "A = rand(10_000,10_000)\n",
    "b = @benchmark(norm($A))"
   ]
  },
  {
   "cell_type": "code",
   "execution_count": 5,
   "metadata": {},
   "outputs": [
    {
     "data": {
      "text/plain": [
       "72-element Array{Float64,1}:\n",
       " 6.6540773e7\n",
       " 6.6544951e7\n",
       " 6.6802459e7\n",
       " 6.6894026e7\n",
       " 6.6932038e7\n",
       " 6.6938535e7\n",
       " 6.696567e7\n",
       " 6.6976691e7\n",
       " 6.7040825e7\n",
       " 6.7060457e7\n",
       " 6.7074917e7\n",
       " 6.7095125e7\n",
       " 6.7109001e7\n",
       " ⋮\n",
       " 7.254496e7\n",
       " 7.322845e7\n",
       " 7.3403897e7\n",
       " 7.3609716e7\n",
       " 7.3779861e7\n",
       " 7.4376496e7\n",
       " 7.450855e7\n",
       " 7.5501133e7\n",
       " 7.6816566e7\n",
       " 7.7050955e7\n",
       " 8.5943142e7\n",
       " 9.0509429e7"
      ]
     },
     "execution_count": 5,
     "metadata": {},
     "output_type": "execute_result"
    }
   ],
   "source": [
    "b.times"
   ]
  },
  {
   "cell_type": "code",
   "execution_count": 6,
   "metadata": {},
   "outputs": [
    {
     "data": {
      "text/plain": [
       "BenchmarkTools.Trial: \n",
       "  memory estimate:  0 bytes\n",
       "  allocs estimate:  0\n",
       "  --------------\n",
       "  minimum time:     67.368 ms (0.00% GC)\n",
       "  median time:      68.930 ms (0.00% GC)\n",
       "  mean time:        70.622 ms (0.00% GC)\n",
       "  maximum time:     79.535 ms (0.00% GC)\n",
       "  --------------\n",
       "  samples:          10\n",
       "  evals/sample:     1"
      ]
     },
     "execution_count": 6,
     "metadata": {},
     "output_type": "execute_result"
    }
   ],
   "source": [
    "# you can force the number of samples\n",
    "b = @benchmark(norm($A),samples=10)"
   ]
  },
  {
   "cell_type": "code",
   "execution_count": 7,
   "metadata": {},
   "outputs": [
    {
     "data": {
      "text/plain": [
       "10-element Array{Float64,1}:\n",
       " 6.7367765e7\n",
       " 6.7665322e7\n",
       " 6.8292852e7\n",
       " 6.8684129e7\n",
       " 6.8798195e7\n",
       " 6.9060912e7\n",
       " 7.0648926e7\n",
       " 7.1236554e7\n",
       " 7.4927986e7\n",
       " 7.9534706e7"
      ]
     },
     "execution_count": 7,
     "metadata": {},
     "output_type": "execute_result"
    }
   ],
   "source": [
    "b.times"
   ]
  },
  {
   "cell_type": "code",
   "execution_count": 8,
   "metadata": {},
   "outputs": [
    {
     "data": {
      "text/plain": [
       "BenchmarkTools.Trial: \n",
       "  memory estimate:  0 bytes\n",
       "  allocs estimate:  0\n",
       "  --------------\n",
       "  minimum time:     66.323 ms (0.00% GC)\n",
       "  median time:      67.675 ms (0.00% GC)\n",
       "  mean time:        69.053 ms (0.00% GC)\n",
       "  maximum time:     94.667 ms (0.00% GC)\n",
       "  --------------\n",
       "  samples:          73\n",
       "  evals/sample:     1"
      ]
     },
     "execution_count": 8,
     "metadata": {},
     "output_type": "execute_result"
    }
   ],
   "source": [
    "# you can also globally set the number of samples to run\n",
    "BenchmarkTools.DEFAULT_PARAMETERS.samples = 100\n",
    "b = @benchmark norm($A)"
   ]
  },
  {
   "cell_type": "code",
   "execution_count": 9,
   "metadata": {},
   "outputs": [
    {
     "data": {
      "text/plain": [
       "73-element Array{Float64,1}:\n",
       " 6.6323273e7\n",
       " 6.6519851e7\n",
       " 6.6694797e7\n",
       " 6.6703923e7\n",
       " 6.6877924e7\n",
       " 6.6879407e7\n",
       " 6.696749e7\n",
       " 6.7020872e7\n",
       " 6.70563e7\n",
       " 6.706255e7\n",
       " 6.7081524e7\n",
       " 6.7096782e7\n",
       " 6.7105498e7\n",
       " ⋮\n",
       " 7.0193202e7\n",
       " 7.0382941e7\n",
       " 7.0410067e7\n",
       " 7.1634035e7\n",
       " 7.3559212e7\n",
       " 7.432824e7\n",
       " 7.446428e7\n",
       " 7.4753271e7\n",
       " 7.5695496e7\n",
       " 8.2338899e7\n",
       " 8.7254855e7\n",
       " 9.4667437e7"
      ]
     },
     "execution_count": 9,
     "metadata": {},
     "output_type": "execute_result"
    }
   ],
   "source": [
    "b.times"
   ]
  },
  {
   "cell_type": "markdown",
   "metadata": {},
   "source": [
    "Didn't we set the number of samples to 100?\n",
    "Yes. But these will only run until a number of seconds is satisfied"
   ]
  },
  {
   "cell_type": "code",
   "execution_count": 11,
   "metadata": {},
   "outputs": [
    {
     "data": {
      "text/plain": [
       "5.0"
      ]
     },
     "execution_count": 11,
     "metadata": {},
     "output_type": "execute_result"
    }
   ],
   "source": [
    "BenchmarkTools.DEFAULT_PARAMETERS.seconds"
   ]
  },
  {
   "cell_type": "code",
   "execution_count": 12,
   "metadata": {},
   "outputs": [
    {
     "data": {
      "text/plain": [
       "100"
      ]
     },
     "execution_count": 12,
     "metadata": {},
     "output_type": "execute_result"
    }
   ],
   "source": [
    "BenchmarkTools.DEFAULT_PARAMETERS.seconds = 100"
   ]
  },
  {
   "cell_type": "code",
   "execution_count": 13,
   "metadata": {},
   "outputs": [
    {
     "data": {
      "text/plain": [
       "BenchmarkTools.Trial: \n",
       "  memory estimate:  0 bytes\n",
       "  allocs estimate:  0\n",
       "  --------------\n",
       "  minimum time:     64.919 ms (0.00% GC)\n",
       "  median time:      67.645 ms (0.00% GC)\n",
       "  mean time:        68.107 ms (0.00% GC)\n",
       "  maximum time:     75.331 ms (0.00% GC)\n",
       "  --------------\n",
       "  samples:          100\n",
       "  evals/sample:     1"
      ]
     },
     "execution_count": 13,
     "metadata": {},
     "output_type": "execute_result"
    }
   ],
   "source": [
    "b = @benchmark norm($A)"
   ]
  },
  {
   "cell_type": "code",
   "execution_count": 14,
   "metadata": {},
   "outputs": [
    {
     "data": {
      "text/plain": [
       "100"
      ]
     },
     "execution_count": 14,
     "metadata": {},
     "output_type": "execute_result"
    }
   ],
   "source": [
    "length(b.times)"
   ]
  },
  {
   "cell_type": "markdown",
   "metadata": {},
   "source": [
    "Recap:\n",
    "- BenchmarkTools is a great tool to do your benchmarking\n",
    "- Don't forget to interpolate your variables when you are working with local scope\n",
    "- You can control a number of things while benchmarking including the number of runs and the wait time until all runs finish. More here: https://github.com/JuliaCI/BenchmarkTools.jl/blob/master/doc/manual.md#benchmark-parameters"
   ]
  },
  {
   "cell_type": "markdown",
   "metadata": {},
   "source": [
    "## 2️⃣ [Tools] Profiling\n",
    "Profiling makes more sense when we run it from the terminal. We will demo the profiler there.\n",
    "\n",
    "Here is the pipeline: \n",
    "- 1. Have a working solution of your work.\n",
    "- 2. Start Julia with `--track-allocation=<setting>`.\n",
    "- 3. Type `using Profile`.\n",
    "- 4. Include the files needed to profile your code.\n",
    "- 5. Run your code to make sure it's a running version and the results are as expected.\n",
    "- 6. Profile.clear_malloc_data()\n",
    "- 7. `@profile myfunc()`\n",
    "\n",
    "Each line will have to its left the number of bytes allocated."
   ]
  },
  {
   "cell_type": "code",
   "execution_count": 15,
   "metadata": {},
   "outputs": [
    {
     "name": "stdout",
     "output_type": "stream",
     "text": [
      "This puzzle is not solvable.\n",
      "+----+----+----+----+\n",
      "| 8  | 10 | 1  | 3  |\n",
      "| 14 | 7  | 5  | 12 |\n",
      "| 9  | 11 | 15 | 4  |\n",
      "| 6  | 13 | 2  |    |\n",
      "+----+----+----+----+\n",
      "Possible moves are: [\"2\", \"4\"], 0 to exit. Your move? =>  stdin> 0\n",
      "Exiting the game...\n"
     ]
    }
   ],
   "source": [
    "include(\"rosetta15_puzzle_game.jl\")\n",
    "puzzle15play()"
   ]
  },
  {
   "cell_type": "markdown",
   "metadata": {},
   "source": [
    "## 3️⃣ [Types] Avoid abstract types\n",
    "- Abstract type is something like Real\n",
    "- Concrete type is something like Int64\n",
    "\n",
    "First let's take a look at some of Julia's types"
   ]
  },
  {
   "cell_type": "code",
   "execution_count": 16,
   "metadata": {},
   "outputs": [
    {
     "name": "stdout",
     "output_type": "stream",
     "text": [
      "Number\n",
      "|___Complex\n",
      "|___Real\n",
      "\t|___AbstractFloat\n",
      "\t\t|___BigFloat\n",
      "\t\t|___Float16\n",
      "\t\t|___Float32\n",
      "\t\t|___Float64\n",
      "\t|___AbstractIrrational\n",
      "\t\t|___Irrational\n",
      "\t|___Integer\n",
      "\t\t|___Bool\n",
      "\t\t|___Signed\n",
      "\t\t\t|___BigInt\n",
      "\t\t\t|___Int128\n",
      "\t\t\t|___Int16\n",
      "\t\t\t|___Int32\n",
      "\t\t\t|___Int64\n",
      "\t\t\t|___Int8\n",
      "\t\t|___Unsigned\n",
      "\t\t\t|___UInt128\n",
      "\t\t\t|___UInt16\n",
      "\t\t\t|___UInt32\n",
      "\t\t\t|___UInt64\n",
      "\t\t\t|___UInt8\n",
      "\t|___Rational\n"
     ]
    }
   ],
   "source": [
    "function _show_subtype_tree(mytype,printlevel)\n",
    "    allsubtypes = subtypes(mytype)\n",
    "    for cursubtype in allsubtypes\n",
    "        print(\"\\t\"^printlevel)\n",
    "        println(\"|___\",cursubtype)\n",
    "        printlevel += 1\n",
    "        _show_subtype_tree(cursubtype,printlevel)\n",
    "        printlevel -= 1\n",
    "    end\n",
    "end\n",
    "function show_type_tree(T)\n",
    "    println(T)\n",
    "    _show_subtype_tree(T,0)\n",
    "end\n",
    "show_type_tree(Number)"
   ]
  },
  {
   "cell_type": "code",
   "execution_count": 17,
   "metadata": {},
   "outputs": [
    {
     "name": "stdout",
     "output_type": "stream",
     "text": [
      "isconcretetype(Float64) = true\n",
      "isconcretetype(Real) = false\n"
     ]
    }
   ],
   "source": [
    "@show isconcretetype(Float64);\n",
    "@show isconcretetype(Real);"
   ]
  },
  {
   "cell_type": "code",
   "execution_count": 18,
   "metadata": {},
   "outputs": [
    {
     "name": "stdout",
     "output_type": "stream",
     "text": [
      "  23.329 μs (227 allocations: 11.73 KiB)\n",
      "  19.015 μs (9 allocations: 8.33 KiB)\n"
     ]
    }
   ],
   "source": [
    "function record_games_won(ngames)\n",
    "    games_won = []\n",
    "    for i = 1:ngames\n",
    "        r = rand()\n",
    "        if r >= 0.5\n",
    "            push!(games_won,i)\n",
    "        end\n",
    "    end\n",
    "    return games_won\n",
    "end\n",
    "function record_games_won_v2(ngames)\n",
    "    games_won = Int64[]\n",
    "    for i = 1:ngames\n",
    "        r = rand()\n",
    "        if r >= 0.5\n",
    "            push!(games_won,i)\n",
    "        end\n",
    "    end\n",
    "    return games_won\n",
    "end\n",
    "record_games_won(2);\n",
    "record_games_won_v2(2);\n",
    "\n",
    "ntrials = 1000\n",
    "@btime record_games_won(ntrials);\n",
    "@btime record_games_won_v2(ntrials);"
   ]
  },
  {
   "cell_type": "markdown",
   "metadata": {},
   "source": [
    "## 4️⃣ [Types] Avoid global scope\n",
    "In Julia, you always want to try and put your code in functions (mainly when you care about performance). Global scope is anything in the REPL or here on a jupyter notebook. Local scope is something that is in a function. "
   ]
  },
  {
   "cell_type": "code",
   "execution_count": 19,
   "metadata": {},
   "outputs": [
    {
     "name": "stdout",
     "output_type": "stream",
     "text": [
      "  159.376 μs (4499 allocations: 140.98 KiB)\n",
      "  13.054 μs (10 allocations: 16.27 KiB)\n"
     ]
    }
   ],
   "source": [
    "allgames = rand(ntrials)\n",
    "function record_games_won_global()\n",
    "    games_won = Int64[]\n",
    "    for (curi,curgame) in enumerate(allgames)\n",
    "        if curgame >= 0.5\n",
    "            push!(games_won,curi)\n",
    "        end\n",
    "    end\n",
    "    return games_won\n",
    "end\n",
    "\n",
    "function record_games_won_local(ntrials)\n",
    "    allgames = rand(ntrials)\n",
    "    games_won = Int64[]\n",
    "    for (curi,curgame) in enumerate(allgames)\n",
    "        if curgame >= 0.5\n",
    "            push!(games_won,curi)\n",
    "        end\n",
    "    end\n",
    "    return games_won\n",
    "end\n",
    "\n",
    "record_games_won_global();\n",
    "record_games_won_local(ntrials);\n",
    "\n",
    "@btime record_games_won_global();\n",
    "@btime record_games_won_local(ntrials);\n",
    "    "
   ]
  },
  {
   "cell_type": "markdown",
   "metadata": {},
   "source": [
    "If you **must** use global scope, define your variable with `const`. `const` here does not mean that the value you're declaring cannot change. It only means that the type of the value you are declaring cannot change. Let's look at this example:"
   ]
  },
  {
   "cell_type": "code",
   "execution_count": 20,
   "metadata": {},
   "outputs": [
    {
     "name": "stdout",
     "output_type": "stream",
     "text": [
      "myglobalint = 2\n"
     ]
    },
    {
     "name": "stderr",
     "output_type": "stream",
     "text": [
      "WARNING: redefining constant myglobalint\n"
     ]
    },
    {
     "data": {
      "text/plain": [
       "2"
      ]
     },
     "execution_count": 20,
     "metadata": {},
     "output_type": "execute_result"
    }
   ],
   "source": [
    "const myglobalint = 1\n",
    "myglobalint = 2\n",
    "@show myglobalint"
   ]
  },
  {
   "cell_type": "code",
   "execution_count": 21,
   "metadata": {},
   "outputs": [
    {
     "ename": "ErrorException",
     "evalue": "invalid redefinition of constant myglobalint",
     "output_type": "error",
     "traceback": [
      "invalid redefinition of constant myglobalint",
      "",
      "Stacktrace:",
      " [1] top-level scope at In[21]:1"
     ]
    }
   ],
   "source": [
    "myglobalint = 1.5"
   ]
  },
  {
   "cell_type": "markdown",
   "metadata": {},
   "source": [
    "## 5️⃣ [Memory] Preallocate memory"
   ]
  },
  {
   "cell_type": "code",
   "execution_count": 22,
   "metadata": {},
   "outputs": [
    {
     "name": "stdout",
     "output_type": "stream",
     "text": [
      "  18.938 μs (9 allocations: 8.33 KiB)\n",
      "  7.394 μs (3 allocations: 19.80 KiB)\n"
     ]
    }
   ],
   "source": [
    "function record_games_won_v2(ngames)\n",
    "    games_won = Int64[]\n",
    "    for i = 1:ngames\n",
    "        r = rand()\n",
    "        if r >= 0.5\n",
    "            push!(games_won,i)\n",
    "        end\n",
    "    end\n",
    "    return games_won\n",
    "end\n",
    "\n",
    "function record_games_won_preallocate(ntrials)\n",
    "    allgames = rand(ntrials)\n",
    "    games_won = Vector{Int64}(undef,ntrials)\n",
    "    gi = 1\n",
    "    for (curi,curgame) in enumerate(allgames)\n",
    "        if curgame >= 0.5\n",
    "            games_won[gi] = curi\n",
    "            gi += 1\n",
    "        end\n",
    "    end\n",
    "    return games_won[1:gi-1]\n",
    "end\n",
    "\n",
    "\n",
    "record_games_won_preallocate(ntrials);\n",
    "\n",
    "@btime record_games_won_v2(ntrials);\n",
    "@btime record_games_won_preallocate(ntrials);"
   ]
  },
  {
   "cell_type": "markdown",
   "metadata": {},
   "source": [
    "## 6️⃣ [Memory] Use fused vector operations (broadcast)"
   ]
  },
  {
   "cell_type": "code",
   "execution_count": 23,
   "metadata": {},
   "outputs": [
    {
     "name": "stdout",
     "output_type": "stream",
     "text": [
      "  3.314 μs (5 allocations: 16.32 KiB)\n"
     ]
    }
   ],
   "source": [
    "function record_games_won_preallocate_fused(ntrials)\n",
    "    allgames = rand(ntrials)\n",
    "    games_won = findall(allgames.>=0.5)\n",
    "    return games_won\n",
    "end\n",
    "\n",
    "record_games_won_preallocate_fused(ntrials);\n",
    "@btime record_games_won_preallocate_fused(ntrials);"
   ]
  },
  {
   "cell_type": "code",
   "execution_count": 24,
   "metadata": {},
   "outputs": [
    {
     "name": "stdout",
     "output_type": "stream",
     "text": [
      "  4.604 μs (6 allocations: 47.63 KiB)\n",
      "  1.155 μs (4 allocations: 8.00 KiB)\n"
     ]
    }
   ],
   "source": [
    "f(x) = 3x.^2 + 4x + 7x.^3;\n",
    "x = rand(1000)\n",
    "@btime f(x)\n",
    "@btime f.(x)\n",
    ";"
   ]
  },
  {
   "cell_type": "markdown",
   "metadata": {},
   "source": [
    "## 7️⃣ [Memory] You don't need to \"vectorize\""
   ]
  },
  {
   "cell_type": "code",
   "execution_count": 25,
   "metadata": {},
   "outputs": [
    {
     "name": "stdout",
     "output_type": "stream",
     "text": [
      "  4.573 μs (4 allocations: 31.75 KiB)\n",
      "  1.683 μs (3 allocations: 7.98 KiB)\n",
      "  2.296 μs (1 allocation: 7.94 KiB)\n"
     ]
    }
   ],
   "source": [
    "function find_hypotenuse_vectorized(b,h)\n",
    "    return sqrt.(b.^2+h.^2)\n",
    "end\n",
    "\n",
    "function find_hypotenuse_forloop(b,h)\n",
    "    accum_vec = similar(b)\n",
    "    for i = 1:length(b)\n",
    "        accum_vec[i] = sqrt(b[i]^2+h[i]^2)\n",
    "    end\n",
    "    return accum_vec\n",
    "end\n",
    "\n",
    "b = rand(ntrials)\n",
    "h = rand(ntrials)\n",
    "@btime find_hypotenuse_vectorized(b,h);\n",
    "@btime find_hypotenuse_vectorized.(b,h);\n",
    "@btime find_hypotenuse_forloop(b,h);"
   ]
  },
  {
   "cell_type": "markdown",
   "metadata": {},
   "source": [
    "## 8️⃣ [Memory] Reuse memory"
   ]
  },
  {
   "cell_type": "code",
   "execution_count": 34,
   "metadata": {},
   "outputs": [
    {
     "name": "stdout",
     "output_type": "stream",
     "text": [
      "  1.045 ms (1001 allocations: 3.97 MiB)\n",
      "  866.446 μs (2 allocations: 15.88 KiB)\n"
     ]
    }
   ],
   "source": [
    "function find_sum_of_sqrt_vectors(nvectors)\n",
    "    sumvector = Vector{Float64}(undef,nvectors)\n",
    "    for i = 1:nvectors\n",
    "        # v = sqrt.(1:i)\n",
    "        sumvector[i] = sum(sqrt.(1:i))\n",
    "    end\n",
    "    return sumvector\n",
    "end\n",
    "\n",
    "function find_sum_of_sqrt_vectors_reusemem(nvectors)\n",
    "    sumvector = Vector{Float64}(undef,nvectors)\n",
    "    v = Vector{Float64}(undef,nvectors)\n",
    "    for i = 1:nvectors\n",
    "        v[1:i] .= sqrt.(1:i)\n",
    "        sumvector[i] = sum(v)\n",
    "        v .= 0\n",
    "    end\n",
    "    return sumvector\n",
    "end\n",
    "\n",
    "@btime find_sum_of_sqrt_vectors(ntrials);\n",
    "@btime find_sum_of_sqrt_vectors_reusemem(ntrials);"
   ]
  },
  {
   "cell_type": "markdown",
   "metadata": {},
   "source": [
    "## 9️⃣ [Memory] Use `@view` when you don't need a copy of the data"
   ]
  },
  {
   "cell_type": "code",
   "execution_count": 35,
   "metadata": {},
   "outputs": [
    {
     "name": "stdout",
     "output_type": "stream",
     "text": [
      "  3.177 μs (19 allocations: 5.83 KiB)\n",
      "  2.179 μs (6 allocations: 448 bytes)\n"
     ]
    },
    {
     "data": {
      "text/plain": [
       "4.100851697845265"
      ]
     },
     "execution_count": 35,
     "metadata": {},
     "output_type": "execute_result"
    }
   ],
   "source": [
    "using SparseArrays\n",
    "using LinearAlgebra\n",
    "A = sprand(500,500,0.1)\n",
    "function set_sum(A,rowids,colids)\n",
    "    s = sum(A[rowids,colids])\n",
    "end\n",
    "function set_sum_view(A,rowids,colids)\n",
    "    s = sum(view(A,rowids,colids))\n",
    "end\n",
    "\n",
    "using Random\n",
    "@btime set_sum(A,randperm(10), randperm(10))\n",
    "@btime set_sum_view(A,randperm(10), randperm(10))"
   ]
  },
  {
   "cell_type": "code",
   "execution_count": 36,
   "metadata": {},
   "outputs": [
    {
     "name": "stdout",
     "output_type": "stream",
     "text": [
      "  602.272 μs (1002 allocations: 3.98 MiB)\n"
     ]
    }
   ],
   "source": [
    "function find_sum_of_sqrt_vectors_copies(nvectors)\n",
    "    sumvector = Vector{Float64}(undef,nvectors)\n",
    "    v = sqrt.(1:nvectors)\n",
    "    for i = 1:nvectors\n",
    "        sumvector[i] = sum(v[1:i])\n",
    "    end\n",
    "    return sumvector\n",
    "end\n",
    "@btime find_sum_of_sqrt_vectors_copies(ntrials);"
   ]
  },
  {
   "cell_type": "code",
   "execution_count": 37,
   "metadata": {},
   "outputs": [
    {
     "name": "stdout",
     "output_type": "stream",
     "text": [
      "  69.300 μs (1002 allocations: 62.75 KiB)\n"
     ]
    }
   ],
   "source": [
    "function find_sum_of_sqrt_vectors_views(nvectors)\n",
    "    sumvector = Vector{Float64}(undef,nvectors)\n",
    "    v = sqrt.(1:nvectors)\n",
    "    for i = 1:nvectors\n",
    "        sumvector[i] = sum(@view v[1:i])\n",
    "    end\n",
    "    return sumvector\n",
    "end\n",
    "@btime find_sum_of_sqrt_vectors_views(ntrials);"
   ]
  },
  {
   "cell_type": "markdown",
   "metadata": {},
   "source": [
    "## 1️⃣0️⃣ [Memory] Use inplace operations if you don't need to keep the original data."
   ]
  },
  {
   "cell_type": "code",
   "execution_count": 41,
   "metadata": {},
   "outputs": [
    {
     "name": "stdout",
     "output_type": "stream",
     "text": [
      "  5.018 μs (4 allocations: 31.75 KiB)\n",
      "  1.713 μs (3 allocations: 7.98 KiB)\n",
      "  2.381 μs (1 allocation: 7.94 KiB)\n",
      "  2.205 μs (0 allocations: 0 bytes)\n"
     ]
    }
   ],
   "source": [
    "function find_hypotenuse_vectorized(b,h)\n",
    "    return sqrt.(b.^2+h.^2)\n",
    "end\n",
    "\n",
    "function find_hypotenuse_inplaceb!(b,h)\n",
    "    for i = 1:length(b)\n",
    "        b[i] = sqrt(b[i]^2+h[i]^2)\n",
    "    end\n",
    "end\n",
    "\n",
    "b = rand(ntrials)\n",
    "h = rand(ntrials)\n",
    "@btime find_hypotenuse_vectorized(b,h);\n",
    "@btime find_hypotenuse_vectorized.(b,h);\n",
    "@btime find_hypotenuse_forloop(b,h);\n",
    "@btime find_hypotenuse_inplaceb!(b,h);"
   ]
  },
  {
   "cell_type": "markdown",
   "metadata": {},
   "source": [
    "## 1️⃣1️⃣ [Memory] Use iterators if you only want to access each element once"
   ]
  },
  {
   "cell_type": "markdown",
   "metadata": {},
   "source": [
    "### What are iterators and why do we care about them?\n",
    "- We create iterator objects when we don't want to store/create all the elements in an array at once.\n",
    "- A quick example is a Fibonacci sequence: say you want to use the Fibonacci sequence numbers for a simple purpose but you don't necessarily care about storing all of them. You would want something like this:\n",
    "```\n",
    "fib_iterator = fib(n)\n",
    "for i in fib_iterator\n",
    "  #do something\n",
    "end\n",
    "```\n",
    "- In the above iteration, you are not computing and storing all the fibonacci sequence numbers. Instead, we are just creating them on the fly\n",
    "A lot of types in Julia are iteratable by default. A simple example is an array of numbers.\n",
    "```\n",
    "for i in rand(10)\n",
    "  #do something\n",
    "end\n",
    "```\n",
    "`rand(10)` returns a vector, and a vector is iteratable"
   ]
  },
  {
   "cell_type": "code",
   "execution_count": 42,
   "metadata": {},
   "outputs": [
    {
     "data": {
      "text/plain": [
       "myfib (generic function with 1 method)"
      ]
     },
     "execution_count": 42,
     "metadata": {},
     "output_type": "execute_result"
    }
   ],
   "source": [
    "struct fib_iterator\n",
    "    n::Int\n",
    "end\n",
    "\n",
    "function Base.iterate(f::fib_iterator,state=(0,0,1))\n",
    "    prev1,prev2,stepid = state\n",
    "    # state the ending conditions first\n",
    "    if stepid == 1\n",
    "        return (1,(0,1,2))\n",
    "    end\n",
    "    if f.n < stepid\n",
    "        return nothing\n",
    "    end\n",
    "    # else\n",
    "    y = prev1+prev2\n",
    "    stepid += 1\n",
    "    return (y,(prev2,y,stepid))\n",
    "end\n",
    "\n",
    "function myfib(n)\n",
    "    v = zeros(Int,n+1)\n",
    "    v[1] = 1\n",
    "    v[2] = 1\n",
    "    for i = 3:n+1\n",
    "        v[i] = v[i-1] + v[i-2]\n",
    "    end\n",
    "    return v\n",
    "end"
   ]
  },
  {
   "cell_type": "code",
   "execution_count": 43,
   "metadata": {},
   "outputs": [
    {
     "name": "stdout",
     "output_type": "stream",
     "text": [
      "  9.692 ns (0 allocations: 0 bytes)\n",
      "  67.756 ns (1 allocation: 176 bytes)\n"
     ]
    }
   ],
   "source": [
    "function test_iterator(n)\n",
    "    f = fib_iterator(n)\n",
    "    s = 0\n",
    "    for i in f\n",
    "        s += i\n",
    "    end\n",
    "end\n",
    "function test_allocate(n)\n",
    "    s = 0\n",
    "    for i in myfib(n)\n",
    "        s += i\n",
    "    end\n",
    "end\n",
    "    \n",
    "@btime test_iterator(10);\n",
    "@btime test_allocate(10);"
   ]
  },
  {
   "cell_type": "markdown",
   "metadata": {},
   "source": [
    "## 1️⃣2️⃣ [Memory] Access matrices by columns first"
   ]
  },
  {
   "cell_type": "code",
   "execution_count": 44,
   "metadata": {},
   "outputs": [
    {
     "name": "stdout",
     "output_type": "stream",
     "text": [
      "  42.897 ms (1 allocation: 16 bytes)\n",
      "  14.700 ms (1 allocation: 16 bytes)\n",
      "  13.371 ms (1 allocation: 16 bytes)\n"
     ]
    }
   ],
   "source": [
    "m = ntrials\n",
    "n = 10000\n",
    "A = rand(m,n)\n",
    "\n",
    "function matrix_sum_rows(A)\n",
    "    m,n = size(A)\n",
    "    mysum = 0\n",
    "    for i = 1:m # fix a row\n",
    "        for j = 1:n # loop over cols\n",
    "            mysum += A[i,j]\n",
    "        end\n",
    "    end\n",
    "    return mysum\n",
    "end\n",
    "\n",
    "function matrix_sum_cols(A)\n",
    "    m,n = size(A)\n",
    "    mysum = 0\n",
    "    for j = 1:n # fix a column\n",
    "        for i = 1:m # loop over rows\n",
    "            mysum += A[i,j]\n",
    "        end\n",
    "    end\n",
    "    return mysum\n",
    "end\n",
    "\n",
    "function matrix_sum_index(A)\n",
    "    m,n = size(A)\n",
    "    mysum = 0\n",
    "    for i = 1:m*n\n",
    "        mysum += A[i]\n",
    "    end\n",
    "    return mysum\n",
    "end\n",
    "@btime matrix_sum_rows(A)\n",
    "@btime matrix_sum_cols(A)\n",
    "@btime matrix_sum_index(A);"
   ]
  },
  {
   "cell_type": "markdown",
   "metadata": {},
   "source": [
    "## 1️⃣3️⃣ [Types] Write type stable code"
   ]
  },
  {
   "cell_type": "code",
   "execution_count": 45,
   "metadata": {},
   "outputs": [
    {
     "name": "stdout",
     "output_type": "stream",
     "text": [
      "Variables\n",
      "  #self#\u001b[36m::Core.Compiler.Const(zero_or_val_stable, false)\u001b[39m\n",
      "  x\u001b[36m::Float64\u001b[39m\n",
      "\n",
      "Body\u001b[36m::Float64\u001b[39m\n",
      "\u001b[90m1 ─\u001b[39m %1 = (x >= 0)\u001b[36m::Bool\u001b[39m\n",
      "\u001b[90m└──\u001b[39m      goto #3 if not %1\n",
      "\u001b[90m2 ─\u001b[39m      return x\n",
      "\u001b[90m3 ─\u001b[39m %4 = Main.typeof(x)\u001b[36m::Core.Compiler.Const(Float64, false)\u001b[39m\n",
      "\u001b[90m│  \u001b[39m %5 = Main.zero(%4)\u001b[36m::Core.Compiler.Const(0.0, false)\u001b[39m\n",
      "\u001b[90m└──\u001b[39m      return %5\n",
      "Variables\n",
      "  #self#\u001b[36m::Core.Compiler.Const(zero_or_val, false)\u001b[39m\n",
      "  x\u001b[36m::Float64\u001b[39m\n",
      "\n",
      "Body\u001b[91m\u001b[1m::Union{Float64, Int64}\u001b[22m\u001b[39m\n",
      "\u001b[90m1 ─\u001b[39m %1 = (x >= 0)\u001b[36m::Bool\u001b[39m\n",
      "\u001b[90m└──\u001b[39m      goto #3 if not %1\n",
      "\u001b[90m2 ─\u001b[39m      return x\n",
      "\u001b[90m3 ─\u001b[39m      return 0\n"
     ]
    }
   ],
   "source": [
    "function zero_or_val_stable(x)\n",
    "    if x >= 0\n",
    "        return x\n",
    "    else\n",
    "        return zero(typeof(x)) \n",
    "    end\n",
    "end\n",
    "@code_warntype zero_or_val_stable(0.2)\n",
    "\n",
    "function zero_or_val(x)\n",
    "    if x >= 0\n",
    "        return x\n",
    "    else\n",
    "        return 0\n",
    "    end\n",
    "end\n",
    "@code_warntype zero_or_val(0.2)"
   ]
  },
  {
   "cell_type": "code",
   "execution_count": 50,
   "metadata": {},
   "outputs": [
    {
     "name": "stdout",
     "output_type": "stream",
     "text": [
      "Variables\n",
      "  #self#\u001b[36m::Core.Compiler.Const(zero_or_val_stable, false)\u001b[39m\n",
      "  x\u001b[36m::Float64\u001b[39m\n",
      "\n",
      "Body\u001b[36m::Float64\u001b[39m\n",
      "\u001b[90m1 ─\u001b[39m %1 = (x >= 0)\u001b[36m::Bool\u001b[39m\n",
      "\u001b[90m└──\u001b[39m      goto #3 if not %1\n",
      "\u001b[90m2 ─\u001b[39m      return x\n",
      "\u001b[90m3 ─\u001b[39m %4 = Main.typeof(x)\u001b[36m::Core.Compiler.Const(Float64, false)\u001b[39m\n",
      "\u001b[90m│  \u001b[39m %5 = Main.zero(%4)\u001b[36m::Core.Compiler.Const(0.0, false)\u001b[39m\n",
      "\u001b[90m└──\u001b[39m      return %5\n"
     ]
    }
   ],
   "source": [
    "@code_warntype zero_or_val_stable(0.2)"
   ]
  },
  {
   "cell_type": "code",
   "execution_count": 51,
   "metadata": {},
   "outputs": [
    {
     "name": "stdout",
     "output_type": "stream",
     "text": [
      "Variables\n",
      "  #self#\u001b[36m::Core.Compiler.Const(zero_or_val, false)\u001b[39m\n",
      "  x\u001b[36m::Float64\u001b[39m\n",
      "\n",
      "Body\u001b[91m\u001b[1m::Union{Float64, Int64}\u001b[22m\u001b[39m\n",
      "\u001b[90m1 ─\u001b[39m %1 = (x >= 0)\u001b[36m::Bool\u001b[39m\n",
      "\u001b[90m└──\u001b[39m      goto #3 if not %1\n",
      "\u001b[90m2 ─\u001b[39m      return x\n",
      "\u001b[90m3 ─\u001b[39m      return 0\n"
     ]
    }
   ],
   "source": [
    "@code_warntype zero_or_val(0.2)"
   ]
  },
  {
   "cell_type": "markdown",
   "metadata": {},
   "source": [
    "## 1️⃣4️⃣ [Types] Type stability revisited"
   ]
  },
  {
   "cell_type": "markdown",
   "metadata": {},
   "source": [
    "Let's take a look at the example below."
   ]
  },
  {
   "cell_type": "code",
   "execution_count": 52,
   "metadata": {},
   "outputs": [
    {
     "data": {
      "text/plain": [
       "square_plus_one (generic function with 1 method)"
      ]
     },
     "execution_count": 52,
     "metadata": {},
     "output_type": "execute_result"
    }
   ],
   "source": [
    "function square_plus_one(v::T) where T <:Number\n",
    "    g = v*v\n",
    "    return g+1\n",
    "end"
   ]
  },
  {
   "cell_type": "code",
   "execution_count": 53,
   "metadata": {},
   "outputs": [
    {
     "data": {
      "text/plain": [
       "Float64"
      ]
     },
     "execution_count": 53,
     "metadata": {},
     "output_type": "execute_result"
    }
   ],
   "source": [
    "v = rand()\n",
    "typeof(v)"
   ]
  },
  {
   "cell_type": "code",
   "execution_count": 54,
   "metadata": {},
   "outputs": [
    {
     "name": "stdout",
     "output_type": "stream",
     "text": [
      "Variables\n",
      "  #self#\u001b[36m::Core.Compiler.Const(square_plus_one, false)\u001b[39m\n",
      "  v\u001b[36m::Float64\u001b[39m\n",
      "  g\u001b[36m::Float64\u001b[39m\n",
      "\n",
      "Body\u001b[36m::Float64\u001b[39m\n",
      "\u001b[90m1 ─\u001b[39m      (g = v * v)\n",
      "\u001b[90m│  \u001b[39m %2 = (g + 1)\u001b[36m::Float64\u001b[39m\n",
      "\u001b[90m└──\u001b[39m      return %2\n"
     ]
    }
   ],
   "source": [
    "@code_warntype square_plus_one(v)"
   ]
  },
  {
   "cell_type": "code",
   "execution_count": 55,
   "metadata": {},
   "outputs": [
    {
     "data": {
      "text/plain": [
       "Int64"
      ]
     },
     "execution_count": 55,
     "metadata": {},
     "output_type": "execute_result"
    }
   ],
   "source": [
    "w = 5\n",
    "typeof(w)"
   ]
  },
  {
   "cell_type": "code",
   "execution_count": 56,
   "metadata": {},
   "outputs": [
    {
     "name": "stdout",
     "output_type": "stream",
     "text": [
      "Variables\n",
      "  #self#\u001b[36m::Core.Compiler.Const(square_plus_one, false)\u001b[39m\n",
      "  v\u001b[36m::Int64\u001b[39m\n",
      "  g\u001b[36m::Int64\u001b[39m\n",
      "\n",
      "Body\u001b[36m::Int64\u001b[39m\n",
      "\u001b[90m1 ─\u001b[39m      (g = v * v)\n",
      "\u001b[90m│  \u001b[39m %2 = (g + 1)\u001b[36m::Int64\u001b[39m\n",
      "\u001b[90m└──\u001b[39m      return %2\n"
     ]
    }
   ],
   "source": [
    "@code_warntype square_plus_one(w)"
   ]
  },
  {
   "cell_type": "markdown",
   "metadata": {},
   "source": [
    "Great! In the above two examples, we were able to predict what the output will be. This is because:\n",
    "\n",
    "```\n",
    "function square_plus_one(v::T) where T <:Number\n",
    "    g = v*v         # Type(T * T) ==> T\n",
    "    return g+1      # Type(T + Int)) ==> \"max\" (T,Int)\n",
    "end\n",
    "```\n",
    "Note that in both calls the return type was different, once Float64 and once Int64. But the function is still type stable."
   ]
  },
  {
   "cell_type": "code",
   "execution_count": 58,
   "metadata": {},
   "outputs": [
    {
     "name": "stdout",
     "output_type": "stream",
     "text": [
      "Variables\n",
      "  #self#\u001b[36m::Core.Compiler.Const(myfunction, false)\u001b[39m\n",
      "  i\u001b[36m::Float64\u001b[39m\n",
      "\n",
      "Body\u001b[36m::Float64\u001b[39m\n",
      "\u001b[90m1 ─\u001b[39m %1 = (i % 2)\u001b[36m::Float64\u001b[39m\n",
      "\u001b[90m│  \u001b[39m %2 = (%1 == 0)\u001b[36m::Bool\u001b[39m\n",
      "\u001b[90m└──\u001b[39m      goto #3 if not %2\n",
      "\u001b[90m2 ─\u001b[39m %4 = (i / 2)\u001b[36m::Float64\u001b[39m\n",
      "\u001b[90m└──\u001b[39m      return %4\n",
      "\u001b[90m3 ─\u001b[39m %6 = (3 * i)\u001b[36m::Float64\u001b[39m\n",
      "\u001b[90m│  \u001b[39m %7 = (%6 + 1)\u001b[36m::Float64\u001b[39m\n",
      "\u001b[90m└──\u001b[39m      return %7\n"
     ]
    }
   ],
   "source": [
    "function myfunction(i)\n",
    "    if i%2==0\n",
    "        i/2\n",
    "    else\n",
    "        3*i+1\n",
    "    end\n",
    "end\n",
    "@code_warntype myfunction(2.2)"
   ]
  },
  {
   "cell_type": "markdown",
   "metadata": {},
   "source": [
    "Some handy tricks to help with type stability:"
   ]
  },
  {
   "cell_type": "code",
   "execution_count": 59,
   "metadata": {},
   "outputs": [
    {
     "data": {
      "text/plain": [
       "zero_or_val_stable_convert (generic function with 1 method)"
      ]
     },
     "execution_count": 59,
     "metadata": {},
     "output_type": "execute_result"
    }
   ],
   "source": [
    "function zero_or_val_stable_promote(x)\n",
    "    T = promote_type(typeof(x),Int)\n",
    "    if x >= 0\n",
    "        return T(x)\n",
    "    else\n",
    "        return T(0)\n",
    "    end\n",
    "end\n",
    "\n",
    "function zero_or_val_stable_annotate(x)\n",
    "    if x >= 0\n",
    "        return x\n",
    "    else\n",
    "        return 0::typeof(x)\n",
    "    end\n",
    "end\n",
    "\n",
    "function zero_or_val_stable_T(x::T) where T<:Real\n",
    "    if x >= 0\n",
    "        return x\n",
    "    else\n",
    "        return T(x)\n",
    "    end\n",
    "end\n",
    "\n",
    "function zero_or_val_stable_zeroT(x)\n",
    "    if x >= 0\n",
    "        return x\n",
    "    else\n",
    "        return zero(typeof(x))\n",
    "    end\n",
    "end\n",
    "\n",
    "function zero_or_val_stable_zerox(x)\n",
    "    if x >= 0\n",
    "        return x\n",
    "    else\n",
    "        return zero(x)\n",
    "    end\n",
    "end\n",
    "\n",
    "function zero_or_val_stable_convert(x)\n",
    "    if x >= 0\n",
    "        return x\n",
    "    else\n",
    "        return convert(typeof(x),0)\n",
    "    end\n",
    "end"
   ]
  },
  {
   "cell_type": "code",
   "execution_count": 60,
   "metadata": {},
   "outputs": [
    {
     "name": "stdout",
     "output_type": "stream",
     "text": [
      "w = 5\n",
      "Variables\n",
      "  #self#\u001b[36m::Core.Compiler.Const(zero_or_val_stable_convert, false)\u001b[39m\n",
      "  x\u001b[36m::Int64\u001b[39m\n",
      "\n",
      "Body\u001b[36m::Int64\u001b[39m\n",
      "\u001b[90m1 ─\u001b[39m %1 = (x >= 0)\u001b[36m::Bool\u001b[39m\n",
      "\u001b[90m└──\u001b[39m      goto #3 if not %1\n",
      "\u001b[90m2 ─\u001b[39m      return x\n",
      "\u001b[90m3 ─\u001b[39m %4 = Main.typeof(x)\u001b[36m::Core.Compiler.Const(Int64, false)\u001b[39m\n",
      "\u001b[90m│  \u001b[39m %5 = Main.convert(%4, 0)\u001b[36m::Core.Compiler.Const(0, false)\u001b[39m\n",
      "\u001b[90m└──\u001b[39m      return %5\n"
     ]
    }
   ],
   "source": [
    "@show w\n",
    "@code_warntype zero_or_val_stable_convert(w)"
   ]
  },
  {
   "cell_type": "markdown",
   "metadata": {},
   "source": [
    "Let's revisit the matrix sum code and write a type stable function."
   ]
  },
  {
   "cell_type": "code",
   "execution_count": 61,
   "metadata": {},
   "outputs": [
    {
     "name": "stdout",
     "output_type": "stream",
     "text": [
      "Variables\n",
      "  #self#\u001b[36m::Core.Compiler.Const(matrix_sum_index, false)\u001b[39m\n",
      "  A\u001b[36m::Array{Float64,2}\u001b[39m\n",
      "  m\u001b[36m::Int64\u001b[39m\n",
      "  @_4\u001b[36m::Int64\u001b[39m\n",
      "  n\u001b[36m::Int64\u001b[39m\n",
      "  mysum\u001b[91m\u001b[1m::Union{Float64, Int64}\u001b[22m\u001b[39m\n",
      "  @_7\u001b[33m\u001b[1m::Union{Nothing, Tuple{Int64,Int64}}\u001b[22m\u001b[39m\n",
      "  i\u001b[36m::Int64\u001b[39m\n",
      "\n",
      "Body\u001b[91m\u001b[1m::Union{Float64, Int64}\u001b[22m\u001b[39m\n",
      "\u001b[90m1 ─\u001b[39m %1  = Main.size(A)\u001b[36m::Tuple{Int64,Int64}\u001b[39m\n",
      "\u001b[90m│  \u001b[39m %2  = Base.indexed_iterate(%1, 1)\u001b[36m::Core.Compiler.PartialStruct(Tuple{Int64,Int64}, Any[Int64, Core.Compiler.Const(2, false)])\u001b[39m\n",
      "\u001b[90m│  \u001b[39m       (m = Core.getfield(%2, 1))\n",
      "\u001b[90m│  \u001b[39m       (@_4 = Core.getfield(%2, 2))\n",
      "\u001b[90m│  \u001b[39m %5  = Base.indexed_iterate(%1, 2, @_4::Core.Compiler.Const(2, false))\u001b[36m::Core.Compiler.PartialStruct(Tuple{Int64,Int64}, Any[Int64, Core.Compiler.Const(3, false)])\u001b[39m\n",
      "\u001b[90m│  \u001b[39m       (n = Core.getfield(%5, 1))\n",
      "\u001b[90m│  \u001b[39m       (mysum = 0)\n",
      "\u001b[90m│  \u001b[39m %8  = (m * n)\u001b[36m::Int64\u001b[39m\n",
      "\u001b[90m│  \u001b[39m %9  = (1:%8)\u001b[36m::Core.Compiler.PartialStruct(UnitRange{Int64}, Any[Core.Compiler.Const(1, false), Int64])\u001b[39m\n",
      "\u001b[90m│  \u001b[39m       (@_7 = Base.iterate(%9))\n",
      "\u001b[90m│  \u001b[39m %11 = (@_7 === nothing)\u001b[36m::Bool\u001b[39m\n",
      "\u001b[90m│  \u001b[39m %12 = Base.not_int(%11)\u001b[36m::Bool\u001b[39m\n",
      "\u001b[90m└──\u001b[39m       goto #4 if not %12\n",
      "\u001b[90m2 ┄\u001b[39m %14 = @_7::Tuple{Int64,Int64}\u001b[36m::Tuple{Int64,Int64}\u001b[39m\n",
      "\u001b[90m│  \u001b[39m       (i = Core.getfield(%14, 1))\n",
      "\u001b[90m│  \u001b[39m %16 = Core.getfield(%14, 2)\u001b[36m::Int64\u001b[39m\n",
      "\u001b[90m│  \u001b[39m %17 = mysum\u001b[91m\u001b[1m::Union{Float64, Int64}\u001b[22m\u001b[39m\n",
      "\u001b[90m│  \u001b[39m %18 = Base.getindex(A, i)\u001b[36m::Float64\u001b[39m\n",
      "\u001b[90m│  \u001b[39m       (mysum = %17 + %18)\n",
      "\u001b[90m│  \u001b[39m       (@_7 = Base.iterate(%9, %16))\n",
      "\u001b[90m│  \u001b[39m %21 = (@_7 === nothing)\u001b[36m::Bool\u001b[39m\n",
      "\u001b[90m│  \u001b[39m %22 = Base.not_int(%21)\u001b[36m::Bool\u001b[39m\n",
      "\u001b[90m└──\u001b[39m       goto #4 if not %22\n",
      "\u001b[90m3 ─\u001b[39m       goto #2\n",
      "\u001b[90m4 ┄\u001b[39m       return mysum\n"
     ]
    }
   ],
   "source": [
    "function matrix_sum_index(A::Array{T,2}) where T\n",
    "    m,n = size(A)\n",
    "    mysum = 0\n",
    "    for i = 1:m*n\n",
    "        mysum += A[i]\n",
    "    end\n",
    "    return mysum\n",
    "end\n",
    "\n",
    "A = rand(10,10)\n",
    "@code_warntype matrix_sum_index(A)"
   ]
  },
  {
   "cell_type": "code",
   "execution_count": 67,
   "metadata": {},
   "outputs": [
    {
     "name": "stdout",
     "output_type": "stream",
     "text": [
      "Variables\n",
      "  #self#\u001b[36m::Core.Compiler.Const(matrix_sum_index, false)\u001b[39m\n",
      "  A\u001b[36m::Array{Float64,2}\u001b[39m\n",
      "  m\u001b[36m::Int64\u001b[39m\n",
      "  @_4\u001b[36m::Int64\u001b[39m\n",
      "  n\u001b[36m::Int64\u001b[39m\n",
      "  mysum\u001b[36m::Float64\u001b[39m\n",
      "  @_7\u001b[33m\u001b[1m::Union{Nothing, Tuple{Int64,Int64}}\u001b[22m\u001b[39m\n",
      "  i\u001b[36m::Int64\u001b[39m\n",
      "\n",
      "Body\u001b[36m::Float64\u001b[39m\n",
      "\u001b[90m1 ─\u001b[39m %1  = Main.size(A)\u001b[36m::Tuple{Int64,Int64}\u001b[39m\n",
      "\u001b[90m│  \u001b[39m %2  = Base.indexed_iterate(%1, 1)\u001b[36m::Core.Compiler.PartialStruct(Tuple{Int64,Int64}, Any[Int64, Core.Compiler.Const(2, false)])\u001b[39m\n",
      "\u001b[90m│  \u001b[39m       (m = Core.getfield(%2, 1))\n",
      "\u001b[90m│  \u001b[39m       (@_4 = Core.getfield(%2, 2))\n",
      "\u001b[90m│  \u001b[39m %5  = Base.indexed_iterate(%1, 2, @_4::Core.Compiler.Const(2, false))\u001b[36m::Core.Compiler.PartialStruct(Tuple{Int64,Int64}, Any[Int64, Core.Compiler.Const(3, false)])\u001b[39m\n",
      "\u001b[90m│  \u001b[39m       (n = Core.getfield(%5, 1))\n",
      "\u001b[90m│  \u001b[39m       (mysum = ($(Expr(:static_parameter, 1)))(0))\n",
      "\u001b[90m│  \u001b[39m %8  = Main.eachindex(A)\u001b[36m::Base.OneTo{Int64}\u001b[39m\n",
      "\u001b[90m│  \u001b[39m       (@_7 = Base.iterate(%8))\n",
      "\u001b[90m│  \u001b[39m %10 = (@_7 === nothing)\u001b[36m::Bool\u001b[39m\n",
      "\u001b[90m│  \u001b[39m %11 = Base.not_int(%10)\u001b[36m::Bool\u001b[39m\n",
      "\u001b[90m└──\u001b[39m       goto #4 if not %11\n",
      "\u001b[90m2 ┄\u001b[39m %13 = @_7::Tuple{Int64,Int64}\u001b[36m::Tuple{Int64,Int64}\u001b[39m\n",
      "\u001b[90m│  \u001b[39m       (i = Core.getfield(%13, 1))\n",
      "\u001b[90m│  \u001b[39m %15 = Core.getfield(%13, 2)\u001b[36m::Int64\u001b[39m\n",
      "\u001b[90m│  \u001b[39m %16 = mysum\u001b[36m::Float64\u001b[39m\n",
      "\u001b[90m│  \u001b[39m %17 = Base.getindex(A, i)\u001b[36m::Float64\u001b[39m\n",
      "\u001b[90m│  \u001b[39m       (mysum = %16 + %17)\n",
      "\u001b[90m│  \u001b[39m       (@_7 = Base.iterate(%8, %15))\n",
      "\u001b[90m│  \u001b[39m %20 = (@_7 === nothing)\u001b[36m::Bool\u001b[39m\n",
      "\u001b[90m│  \u001b[39m %21 = Base.not_int(%20)\u001b[36m::Bool\u001b[39m\n",
      "\u001b[90m└──\u001b[39m       goto #4 if not %21\n",
      "\u001b[90m3 ─\u001b[39m       goto #2\n",
      "\u001b[90m4 ┄\u001b[39m       return mysum\n"
     ]
    }
   ],
   "source": [
    "function matrix_sum_index(A::Array{T,2}) where T\n",
    "    m,n = size(A)\n",
    "    mysum = T(0) # or eltype(A)\n",
    "    for i in eachindex(A)\n",
    "        mysum += A[i]\n",
    "    end\n",
    "    return mysum\n",
    "end\n",
    "A = rand(10,10)\n",
    "@code_warntype matrix_sum_index(A)"
   ]
  },
  {
   "cell_type": "markdown",
   "metadata": {},
   "source": [
    "## 1️⃣5️⃣ [Types] Avoid fields with abstract types"
   ]
  },
  {
   "cell_type": "code",
   "execution_count": 68,
   "metadata": {},
   "outputs": [
    {
     "name": "stdout",
     "output_type": "stream",
     "text": [
      "volume(c1) == volume(c2) == volume(c3) = true\n",
      "  37.191 ns (1 allocation: 16 bytes)\n",
      "  39.945 ns (1 allocation: 16 bytes)\n",
      "  29.547 ns (1 allocation: 16 bytes)\n"
     ]
    },
    {
     "data": {
      "text/plain": [
       "1.7160000000000002"
      ]
     },
     "execution_count": 68,
     "metadata": {},
     "output_type": "execute_result"
    }
   ],
   "source": [
    "mutable struct oneCube\n",
    "    length\n",
    "    width\n",
    "    height\n",
    "end\n",
    "volume(c::oneCube) = c.length*c.width*c.height\n",
    "\n",
    "mutable struct oneCube_Real\n",
    "    length::Real\n",
    "    width::Real\n",
    "    height::Real\n",
    "end\n",
    "volume(c::oneCube_Real) = c.length*c.width*c.height\n",
    "\n",
    "mutable struct oneCube_parametric_typed{T <: Real}\n",
    "    length::T\n",
    "    width::T\n",
    "    height::T\n",
    "end\n",
    "volume(c::oneCube_parametric_typed) = c.length*c.width*c.height\n",
    "\n",
    "c1 = oneCube(1.1,1.2,1.3)\n",
    "c2 = oneCube_Real(1.1,1.2,1.3)\n",
    "c3 = oneCube_parametric_typed(1.1,1.2,1.3)\n",
    "@show volume(c1) == volume(c2) == volume(c3)\n",
    "\n",
    "\n",
    "@btime volume(c1) # not typed\n",
    "@btime volume(c2) # typed float\n",
    "@btime volume(c3) # typed parametric\n",
    "\n"
   ]
  },
  {
   "cell_type": "code",
   "execution_count": 69,
   "metadata": {},
   "outputs": [
    {
     "name": "stdout",
     "output_type": "stream",
     "text": [
      "typeof(c1) = oneCube\n",
      "typeof(c2) = oneCube_Real\n",
      "typeof(c3) = oneCube_parametric_typed{Float64}\n"
     ]
    },
    {
     "data": {
      "text/plain": [
       "oneCube_parametric_typed{Float64}"
      ]
     },
     "execution_count": 69,
     "metadata": {},
     "output_type": "execute_result"
    }
   ],
   "source": [
    "@show typeof(c1)\n",
    "@show typeof(c2)\n",
    "@show typeof(c3)"
   ]
  },
  {
   "cell_type": "code",
   "execution_count": 70,
   "metadata": {},
   "outputs": [
    {
     "data": {
      "text/plain": [
       "Int64"
      ]
     },
     "execution_count": 70,
     "metadata": {},
     "output_type": "execute_result"
    }
   ],
   "source": [
    "c2.height = 1\n",
    "typeof(c2.height)"
   ]
  },
  {
   "cell_type": "code",
   "execution_count": 71,
   "metadata": {},
   "outputs": [
    {
     "data": {
      "text/plain": [
       "Float64"
      ]
     },
     "execution_count": 71,
     "metadata": {},
     "output_type": "execute_result"
    }
   ],
   "source": [
    "c3.height = 1\n",
    "typeof(c3.height)"
   ]
  },
  {
   "cell_type": "code",
   "execution_count": 72,
   "metadata": {},
   "outputs": [
    {
     "name": "stdout",
     "output_type": "stream",
     "text": [
      "Variables\n",
      "  #self#\u001b[36m::Core.Compiler.Const(volume, false)\u001b[39m\n",
      "  c\u001b[36m::oneCube\u001b[39m\n",
      "\n",
      "Body\u001b[91m\u001b[1m::Any\u001b[22m\u001b[39m\n",
      "\u001b[90m1 ─\u001b[39m %1 = Base.getproperty(c, :length)\u001b[91m\u001b[1m::Any\u001b[22m\u001b[39m\n",
      "\u001b[90m│  \u001b[39m %2 = Base.getproperty(c, :width)\u001b[91m\u001b[1m::Any\u001b[22m\u001b[39m\n",
      "\u001b[90m│  \u001b[39m %3 = Base.getproperty(c, :height)\u001b[91m\u001b[1m::Any\u001b[22m\u001b[39m\n",
      "\u001b[90m│  \u001b[39m %4 = (%1 * %2 * %3)\u001b[91m\u001b[1m::Any\u001b[22m\u001b[39m\n",
      "\u001b[90m└──\u001b[39m      return %4\n",
      "Variables\n",
      "  #self#\u001b[36m::Core.Compiler.Const(volume, false)\u001b[39m\n",
      "  c\u001b[36m::oneCube_Real\u001b[39m\n",
      "\n",
      "Body\u001b[91m\u001b[1m::Any\u001b[22m\u001b[39m\n",
      "\u001b[90m1 ─\u001b[39m %1 = Base.getproperty(c, :length)\u001b[91m\u001b[1m::Real\u001b[22m\u001b[39m\n",
      "\u001b[90m│  \u001b[39m %2 = Base.getproperty(c, :width)\u001b[91m\u001b[1m::Real\u001b[22m\u001b[39m\n",
      "\u001b[90m│  \u001b[39m %3 = Base.getproperty(c, :height)\u001b[91m\u001b[1m::Real\u001b[22m\u001b[39m\n",
      "\u001b[90m│  \u001b[39m %4 = (%1 * %2 * %3)\u001b[91m\u001b[1m::Any\u001b[22m\u001b[39m\n",
      "\u001b[90m└──\u001b[39m      return %4\n",
      "Variables\n",
      "  #self#\u001b[36m::Core.Compiler.Const(volume, false)\u001b[39m\n",
      "  c\u001b[36m::oneCube_parametric_typed{Float64}\u001b[39m\n",
      "\n",
      "Body\u001b[36m::Float64\u001b[39m\n",
      "\u001b[90m1 ─\u001b[39m %1 = Base.getproperty(c, :length)\u001b[36m::Float64\u001b[39m\n",
      "\u001b[90m│  \u001b[39m %2 = Base.getproperty(c, :width)\u001b[36m::Float64\u001b[39m\n",
      "\u001b[90m│  \u001b[39m %3 = Base.getproperty(c, :height)\u001b[36m::Float64\u001b[39m\n",
      "\u001b[90m│  \u001b[39m %4 = (%1 * %2 * %3)\u001b[36m::Float64\u001b[39m\n",
      "\u001b[90m└──\u001b[39m      return %4\n"
     ]
    }
   ],
   "source": [
    "@code_warntype volume(c1)\n",
    "@code_warntype volume(c2)\n",
    "@code_warntype volume(c3)"
   ]
  },
  {
   "cell_type": "code",
   "execution_count": 124,
   "metadata": {},
   "outputs": [],
   "source": [
    "mutable struct mynewReal\n",
    "    val::Real\n",
    "end"
   ]
  },
  {
   "cell_type": "code",
   "execution_count": 129,
   "metadata": {},
   "outputs": [],
   "source": [
    "# follow up:\n",
    "function mysumc(v::Vector{mynewReal})\n",
    "    s = zero(eltype(v[1].val))\n",
    "    for i = 1:length(v)\n",
    "        s += v[i].val\n",
    "    end\n",
    "    return s\n",
    "end\n",
    "\n",
    "function mysumT(v::Vector{T}) where T <:Real\n",
    "    s = zero(eltype(v))\n",
    "    for i = 1:length(v)\n",
    "        s += v[i]\n",
    "    end\n",
    "    return s\n",
    "end\n",
    "\n",
    "v = rand(10);\n"
   ]
  },
  {
   "cell_type": "code",
   "execution_count": 130,
   "metadata": {},
   "outputs": [
    {
     "data": {
      "text/plain": [
       "4.171539403926762"
      ]
     },
     "execution_count": 130,
     "metadata": {},
     "output_type": "execute_result"
    }
   ],
   "source": [
    "vNewReal = mynewReal.(v)\n",
    "mysumc(vNewReal)"
   ]
  },
  {
   "cell_type": "code",
   "execution_count": 131,
   "metadata": {},
   "outputs": [
    {
     "data": {
      "text/plain": [
       "4.171539403926762"
      ]
     },
     "execution_count": 131,
     "metadata": {},
     "output_type": "execute_result"
    }
   ],
   "source": [
    "mysumT(v)"
   ]
  },
  {
   "cell_type": "code",
   "execution_count": 132,
   "metadata": {},
   "outputs": [
    {
     "name": "stdout",
     "output_type": "stream",
     "text": [
      "Variables\n",
      "  #self#\u001b[36m::Core.Compiler.Const(mysumc, false)\u001b[39m\n",
      "  v\u001b[36m::Array{mynewReal,1}\u001b[39m\n",
      "  s\u001b[91m\u001b[1m::Any\u001b[22m\u001b[39m\n",
      "  @_4\u001b[33m\u001b[1m::Union{Nothing, Tuple{Int64,Int64}}\u001b[22m\u001b[39m\n",
      "  i\u001b[36m::Int64\u001b[39m\n",
      "\n",
      "Body\u001b[91m\u001b[1m::Any\u001b[22m\u001b[39m\n",
      "\u001b[90m1 ─\u001b[39m %1  = Base.getindex(v, 1)\u001b[36m::mynewReal\u001b[39m\n",
      "\u001b[90m│  \u001b[39m %2  = Base.getproperty(%1, :val)\u001b[91m\u001b[1m::Real\u001b[22m\u001b[39m\n",
      "\u001b[90m│  \u001b[39m %3  = Main.eltype(%2)\u001b[91m\u001b[1m::Type{#s69} where #s69<:Real\u001b[22m\u001b[39m\n",
      "\u001b[90m│  \u001b[39m       (s = Main.zero(%3))\n",
      "\u001b[90m│  \u001b[39m %5  = Main.length(v)\u001b[36m::Int64\u001b[39m\n",
      "\u001b[90m│  \u001b[39m %6  = (1:%5)\u001b[36m::Core.Compiler.PartialStruct(UnitRange{Int64}, Any[Core.Compiler.Const(1, false), Int64])\u001b[39m\n",
      "\u001b[90m│  \u001b[39m       (@_4 = Base.iterate(%6))\n",
      "\u001b[90m│  \u001b[39m %8  = (@_4 === nothing)\u001b[36m::Bool\u001b[39m\n",
      "\u001b[90m│  \u001b[39m %9  = Base.not_int(%8)\u001b[36m::Bool\u001b[39m\n",
      "\u001b[90m└──\u001b[39m       goto #4 if not %9\n",
      "\u001b[90m2 ┄\u001b[39m %11 = @_4::Tuple{Int64,Int64}\u001b[36m::Tuple{Int64,Int64}\u001b[39m\n",
      "\u001b[90m│  \u001b[39m       (i = Core.getfield(%11, 1))\n",
      "\u001b[90m│  \u001b[39m %13 = Core.getfield(%11, 2)\u001b[36m::Int64\u001b[39m\n",
      "\u001b[90m│  \u001b[39m %14 = s\u001b[91m\u001b[1m::Any\u001b[22m\u001b[39m\n",
      "\u001b[90m│  \u001b[39m %15 = Base.getindex(v, i)\u001b[36m::mynewReal\u001b[39m\n",
      "\u001b[90m│  \u001b[39m %16 = Base.getproperty(%15, :val)\u001b[91m\u001b[1m::Real\u001b[22m\u001b[39m\n",
      "\u001b[90m│  \u001b[39m       (s = %14 + %16)\n",
      "\u001b[90m│  \u001b[39m       (@_4 = Base.iterate(%6, %13))\n",
      "\u001b[90m│  \u001b[39m %19 = (@_4 === nothing)\u001b[36m::Bool\u001b[39m\n",
      "\u001b[90m│  \u001b[39m %20 = Base.not_int(%19)\u001b[36m::Bool\u001b[39m\n",
      "\u001b[90m└──\u001b[39m       goto #4 if not %20\n",
      "\u001b[90m3 ─\u001b[39m       goto #2\n",
      "\u001b[90m4 ┄\u001b[39m       return s\n"
     ]
    }
   ],
   "source": [
    "@code_warntype mysumc(vNewReal)"
   ]
  },
  {
   "cell_type": "code",
   "execution_count": 96,
   "metadata": {},
   "outputs": [
    {
     "name": "stdout",
     "output_type": "stream",
     "text": [
      "Variables\n",
      "  #self#\u001b[36m::Core.Compiler.Const(mysumT, false)\u001b[39m\n",
      "  v\u001b[36m::Array{Float64,1}\u001b[39m\n",
      "  s\u001b[36m::Type{Float64}\u001b[39m\n",
      "  @_4\u001b[33m\u001b[1m::Union{Nothing, Tuple{Float64,Int64}}\u001b[22m\u001b[39m\n",
      "  vi\u001b[36m::Float64\u001b[39m\n",
      "\n",
      "Body\u001b[36m::Type{Float64}\u001b[39m\n",
      "\u001b[90m1 ─\u001b[39m      (s = Main.eltype(v))\n",
      "\u001b[90m│  \u001b[39m %2 = v\u001b[36m::Array{Float64,1}\u001b[39m\n",
      "\u001b[90m│  \u001b[39m      (@_4 = Base.iterate(%2))\n",
      "\u001b[90m│  \u001b[39m %4 = (@_4 === nothing)\u001b[36m::Bool\u001b[39m\n",
      "\u001b[90m│  \u001b[39m %5 = Base.not_int(%4)\u001b[36m::Bool\u001b[39m\n",
      "\u001b[90m└──\u001b[39m      goto #3 if not %5\n",
      "\u001b[90m2 ─\u001b[39m %7 = @_4::Tuple{Float64,Int64}\u001b[36m::Tuple{Float64,Int64}\u001b[39m\n",
      "\u001b[90m│  \u001b[39m      (vi = Core.getfield(%7, 1))\n",
      "\u001b[90m│  \u001b[39m      Core.getfield(%7, 2)\n",
      "\u001b[90m│  \u001b[39m      (s = s::Core.Compiler.Const(Float64, false) + vi)\n",
      "\u001b[90m│  \u001b[39m      Core.Compiler.Const(:(@_4 = Base.iterate(%2, %9)), false)\n",
      "\u001b[90m│  \u001b[39m      Core.Compiler.Const(:(@_4 === nothing), false)\n",
      "\u001b[90m│  \u001b[39m      Core.Compiler.Const(:(Base.not_int(%12)), false)\n",
      "\u001b[90m│  \u001b[39m      Core.Compiler.Const(:(unless %13 goto %16), false)\n",
      "\u001b[90m└──\u001b[39m      Core.Compiler.Const(:(goto %7), false)\n",
      "\u001b[90m3 ┄\u001b[39m      return s::Core.Compiler.Const(Float64, false)\n"
     ]
    }
   ],
   "source": [
    "@code_warntype mysumT(v)"
   ]
  },
  {
   "cell_type": "code",
   "execution_count": 135,
   "metadata": {},
   "outputs": [
    {
     "data": {
      "text/plain": [
       "0-element Array{Float64,1}"
      ]
     },
     "execution_count": 135,
     "metadata": {},
     "output_type": "execute_result"
    }
   ],
   "source": [
    "# one more follow up: Avoid containers with abstract type parameters\n",
    "h = Real[]\n",
    "v = Float64[]"
   ]
  },
  {
   "cell_type": "markdown",
   "metadata": {},
   "source": [
    "## 1️⃣6️⃣ [Memory] Avoid allocating memory multiple times"
   ]
  },
  {
   "cell_type": "code",
   "execution_count": 136,
   "metadata": {},
   "outputs": [
    {
     "data": {
      "text/plain": [
       "(0.504, 0.768, 0.243)"
      ]
     },
     "execution_count": 136,
     "metadata": {},
     "output_type": "execute_result"
    }
   ],
   "source": [
    "function fmedian(n)\n",
    "    v = zeros(Int64,n)\n",
    "    for i = 1:n\n",
    "        rand() >= 0.5 ? v[i] = 1 : nothing\n",
    "    end\n",
    "    return v\n",
    "end\n",
    "\n",
    "function fquarter(n)\n",
    "    v = zeros(Int64,n)\n",
    "    for i = 1:n\n",
    "        rand() >= 0.25 ? v[i] = 1 : nothing\n",
    "    end\n",
    "    return v\n",
    "end\n",
    "\n",
    "function f3quarters(n)\n",
    "    v = zeros(Int64,n)\n",
    "    for i = 1:n\n",
    "        rand() >= 0.75 ? v[i] = 1 : nothing\n",
    "    end\n",
    "    return v\n",
    "end\n",
    "\n",
    "function statistical_distribution(n)\n",
    "    f1 = mean(fmedian(n))\n",
    "    f2 = mean(fquarter(n))\n",
    "    f3 = mean(f3quarters(n))\n",
    "    return f1,f2,f3\n",
    "end\n",
    "\n",
    "statistical_distribution(1000)"
   ]
  },
  {
   "cell_type": "code",
   "execution_count": 137,
   "metadata": {},
   "outputs": [
    {
     "data": {
      "text/plain": [
       "(0.506, 0.743, 0.244)"
      ]
     },
     "execution_count": 137,
     "metadata": {},
     "output_type": "execute_result"
    }
   ],
   "source": [
    "function fmedian!(v,n)\n",
    "    for i = 1:n\n",
    "        rand() >= 0.5 ? v[i] = 1 : nothing\n",
    "    end\n",
    "    return v\n",
    "end\n",
    "\n",
    "function fquarter!(v,n)\n",
    "    for i = 1:n\n",
    "        rand() >= 0.25 ? v[i] = 1 : nothing\n",
    "    end\n",
    "    return v\n",
    "end\n",
    "\n",
    "function f3quarters!(v,n)\n",
    "    for i = 1:n\n",
    "        rand() >= 0.75 ? v[i] = 1 : nothing\n",
    "    end\n",
    "    return v\n",
    "end\n",
    "\n",
    "function statistical_distribution_predefinev(n)\n",
    "    v = zeros(Int64,n)\n",
    "    f1 = mean(fmedian!(v,n))\n",
    "    v .= 0\n",
    "    f2 = mean(fquarter!(v,n))\n",
    "    v .= 0\n",
    "    f3 = mean(f3quarters!(v,n))\n",
    "    return f1,f2,f3\n",
    "end\n",
    "\n",
    "statistical_distribution_predefinev(1000)"
   ]
  },
  {
   "cell_type": "code",
   "execution_count": 138,
   "metadata": {},
   "outputs": [
    {
     "name": "stdout",
     "output_type": "stream",
     "text": [
      "  37.297 μs (4 allocations: 23.84 KiB)\n",
      "  40.902 μs (2 allocations: 7.97 KiB)\n"
     ]
    },
    {
     "data": {
      "text/plain": [
       "(0.486, 0.756, 0.249)"
      ]
     },
     "execution_count": 138,
     "metadata": {},
     "output_type": "execute_result"
    }
   ],
   "source": [
    "@btime statistical_distribution(ntrials)\n",
    "@btime statistical_distribution_predefinev(ntrials)"
   ]
  },
  {
   "cell_type": "markdown",
   "metadata": {},
   "source": [
    "## 1️⃣7️⃣ [Memory] Use multiple dispatch instead of multiple conditionals"
   ]
  },
  {
   "cell_type": "code",
   "execution_count": 139,
   "metadata": {},
   "outputs": [
    {
     "name": "stdout",
     "output_type": "stream",
     "text": [
      "  1.827 ns (0 allocations: 0 bytes)\n",
      "  1.521 ns (0 allocations: 0 bytes)\n"
     ]
    },
    {
     "data": {
      "text/plain": [
       "12.566370614359172"
      ]
     },
     "execution_count": 139,
     "metadata": {},
     "output_type": "execute_result"
    }
   ],
   "source": [
    "mutable struct square{T <: Real}\n",
    "    length::T\n",
    "    width::T\n",
    "end\n",
    "\n",
    "mutable struct circle{T <: Real}\n",
    "    radius::T\n",
    "end\n",
    "\n",
    "function area_no_dispatch(geometric_shape)\n",
    "    if isa(geometric_shape,square)\n",
    "        return geometric_shape.length*geometric_shape.width\n",
    "    elseif isa(geometric_shape,circle)\n",
    "        return pi*geometric_shape.radius^2\n",
    "    else\n",
    "        error(\"invalid argument\")\n",
    "    end\n",
    "end\n",
    "\n",
    "area(c::circle) = pi*c.radius^2\n",
    "area(s::square) = s.length*s.width\n",
    "\n",
    "@btime area_no_dispatch(circle(2))\n",
    "@btime area(circle(2))"
   ]
  },
  {
   "cell_type": "markdown",
   "metadata": {},
   "source": [
    "## 1️⃣8️⃣ [Memory] StaticVectors can be useful when you know the length of the vector"
   ]
  },
  {
   "cell_type": "code",
   "execution_count": 140,
   "metadata": {},
   "outputs": [
    {
     "name": "stderr",
     "output_type": "stream",
     "text": [
      "┌ Info: Precompiling StaticArrays [90137ffa-7385-5640-81b9-e52037218182]\n",
      "└ @ Base loading.jl:1260\n"
     ]
    }
   ],
   "source": [
    "# For each car, we'd like to store: make, miles, and number of previous owners. \n",
    "# We'll see what happens when we store them in a vector vs a static vector\n",
    "\n",
    "mutable struct mutableCar\n",
    "    description::Vector{Int}\n",
    "    name::String\n",
    "end\n",
    "\n",
    "struct immutableCar\n",
    "    description::Vector{Int}\n",
    "    name::String\n",
    "end\n",
    "\n",
    "using StaticArrays: SVector\n",
    "\n",
    "struct svectorCar\n",
    "    x::SVector{3, Int}\n",
    "    name::String\n",
    "end"
   ]
  },
  {
   "cell_type": "code",
   "execution_count": 142,
   "metadata": {},
   "outputs": [
    {
     "name": "stdout",
     "output_type": "stream",
     "text": [
      "  70.267 μs (1000 allocations: 109.38 KiB)\n",
      "  69.363 μs (1000 allocations: 109.38 KiB)\n",
      "  31.453 μs (0 allocations: 0 bytes)\n"
     ]
    }
   ],
   "source": [
    "function test_mutable()\n",
    "    for i in 1:1000\n",
    "       x = mutableCar([rand(Int), rand(Int),rand(Int)],\"Honda\")\n",
    "    end\n",
    "end\n",
    "\n",
    "function test_immutable()\n",
    "    for i in 1:1000\n",
    "       x = immutableCar([rand(Int), rand(Int),rand(Int)],\"Honda\")\n",
    "    end\n",
    "end\n",
    "\n",
    "function test_SVector()\n",
    "    for i in 1:1000\n",
    "       x = svectorCar(SVector(rand(Int), rand(Int),rand(Int)),\"Honda\")\n",
    "    end\n",
    "end\n",
    "\n",
    "\n",
    "@btime test_mutable()\n",
    "@btime test_immutable()\n",
    "@btime test_SVector()"
   ]
  },
  {
   "cell_type": "markdown",
   "metadata": {},
   "source": [
    "## 1️⃣9️⃣ [Tools] Some macros that be handy - handle with caution!\n",
    "Some macros that can come handy: `@inbounds`, `@fastmath`, `@inline`, `@simd`"
   ]
  },
  {
   "cell_type": "code",
   "execution_count": 143,
   "metadata": {},
   "outputs": [
    {
     "data": {
      "text/latex": [
       "\\begin{verbatim}\n",
       "@inbounds(blk)\n",
       "\\end{verbatim}\n",
       "Eliminates array bounds checking within expressions.\n",
       "\n",
       "In the example below the in-range check for referencing element \\texttt{i} of array \\texttt{A} is skipped to improve performance.\n",
       "\n",
       "\\begin{verbatim}\n",
       "function sum(A::AbstractArray)\n",
       "    r = zero(eltype(A))\n",
       "    for i = 1:length(A)\n",
       "        @inbounds r += A[i]\n",
       "    end\n",
       "    return r\n",
       "end\n",
       "\\end{verbatim}\n",
       "\\begin{quote}\n",
       "\\textbf{warning}\n",
       "\n",
       "Warning\n",
       "\n",
       "Using \\texttt{@inbounds} may return incorrect results/crashes/corruption for out-of-bounds indices. The user is responsible for checking it manually. Only use \\texttt{@inbounds} when it is certain from the information locally available that all accesses are in bounds.\n",
       "\n",
       "\\end{quote}\n"
      ],
      "text/markdown": [
       "```\n",
       "@inbounds(blk)\n",
       "```\n",
       "\n",
       "Eliminates array bounds checking within expressions.\n",
       "\n",
       "In the example below the in-range check for referencing element `i` of array `A` is skipped to improve performance.\n",
       "\n",
       "```julia\n",
       "function sum(A::AbstractArray)\n",
       "    r = zero(eltype(A))\n",
       "    for i = 1:length(A)\n",
       "        @inbounds r += A[i]\n",
       "    end\n",
       "    return r\n",
       "end\n",
       "```\n",
       "\n",
       "!!! warning\n",
       "    Using `@inbounds` may return incorrect results/crashes/corruption for out-of-bounds indices. The user is responsible for checking it manually. Only use `@inbounds` when it is certain from the information locally available that all accesses are in bounds.\n",
       "\n"
      ],
      "text/plain": [
       "\u001b[36m  @inbounds(blk)\u001b[39m\n",
       "\n",
       "  Eliminates array bounds checking within expressions.\n",
       "\n",
       "  In the example below the in-range check for referencing element \u001b[36mi\u001b[39m of array \u001b[36mA\u001b[39m\n",
       "  is skipped to improve performance.\n",
       "\n",
       "\u001b[36m  function sum(A::AbstractArray)\u001b[39m\n",
       "\u001b[36m      r = zero(eltype(A))\u001b[39m\n",
       "\u001b[36m      for i = 1:length(A)\u001b[39m\n",
       "\u001b[36m          @inbounds r += A[i]\u001b[39m\n",
       "\u001b[36m      end\u001b[39m\n",
       "\u001b[36m      return r\u001b[39m\n",
       "\u001b[36m  end\u001b[39m\n",
       "\n",
       "\u001b[33m\u001b[1m  │ \u001b[22m\u001b[39m\u001b[33m\u001b[1mWarning\u001b[22m\u001b[39m\n",
       "\u001b[33m\u001b[1m  │\u001b[22m\u001b[39m\n",
       "\u001b[33m\u001b[1m  │\u001b[22m\u001b[39m  Using \u001b[36m@inbounds\u001b[39m may return incorrect results/crashes/corruption\n",
       "\u001b[33m\u001b[1m  │\u001b[22m\u001b[39m  for out-of-bounds indices. The user is responsible for checking it\n",
       "\u001b[33m\u001b[1m  │\u001b[22m\u001b[39m  manually. Only use \u001b[36m@inbounds\u001b[39m when it is certain from the\n",
       "\u001b[33m\u001b[1m  │\u001b[22m\u001b[39m  information locally available that all accesses are in bounds."
      ]
     },
     "execution_count": 143,
     "metadata": {},
     "output_type": "execute_result"
    }
   ],
   "source": [
    "?@inbounds"
   ]
  },
  {
   "cell_type": "code",
   "execution_count": 144,
   "metadata": {},
   "outputs": [
    {
     "data": {
      "text/latex": [
       "\\begin{verbatim}\n",
       "@fastmath expr\n",
       "\\end{verbatim}\n",
       "Execute a transformed version of the expression, which calls functions that may violate strict IEEE semantics. This allows the fastest possible operation, but results are undefined – be careful when doing this, as it may change numerical results.\n",
       "\n",
       "This sets the \\href{http://llvm.org/docs/LangRef.html#fast-math-flags}{LLVM Fast-Math flags}, and corresponds to the \\texttt{-ffast-math} option in clang. See \\href{@ref man-performance-annotations}{the notes on performance annotations} for more details.\n",
       "\n",
       "\\section{Examples}\n",
       "\\begin{verbatim}\n",
       "julia> @fastmath 1+2\n",
       "3\n",
       "\n",
       "julia> @fastmath(sin(3))\n",
       "0.1411200080598672\n",
       "\\end{verbatim}\n"
      ],
      "text/markdown": [
       "```\n",
       "@fastmath expr\n",
       "```\n",
       "\n",
       "Execute a transformed version of the expression, which calls functions that may violate strict IEEE semantics. This allows the fastest possible operation, but results are undefined – be careful when doing this, as it may change numerical results.\n",
       "\n",
       "This sets the [LLVM Fast-Math flags](http://llvm.org/docs/LangRef.html#fast-math-flags), and corresponds to the `-ffast-math` option in clang. See [the notes on performance annotations](@ref man-performance-annotations) for more details.\n",
       "\n",
       "# Examples\n",
       "\n",
       "```jldoctest\n",
       "julia> @fastmath 1+2\n",
       "3\n",
       "\n",
       "julia> @fastmath(sin(3))\n",
       "0.1411200080598672\n",
       "```\n"
      ],
      "text/plain": [
       "\u001b[36m  @fastmath expr\u001b[39m\n",
       "\n",
       "  Execute a transformed version of the expression, which calls functions that\n",
       "  may violate strict IEEE semantics. This allows the fastest possible\n",
       "  operation, but results are undefined – be careful when doing this, as it may\n",
       "  change numerical results.\n",
       "\n",
       "  This sets the LLVM Fast-Math flags\n",
       "  (http://llvm.org/docs/LangRef.html#fast-math-flags), and corresponds to the\n",
       "  \u001b[36m-ffast-math\u001b[39m option in clang. See the notes on performance annotations for\n",
       "  more details.\n",
       "\n",
       "\u001b[1m  Examples\u001b[22m\n",
       "\u001b[1m  ≡≡≡≡≡≡≡≡≡≡\u001b[22m\n",
       "\n",
       "\u001b[36m  julia> @fastmath 1+2\u001b[39m\n",
       "\u001b[36m  3\u001b[39m\n",
       "\u001b[36m  \u001b[39m\n",
       "\u001b[36m  julia> @fastmath(sin(3))\u001b[39m\n",
       "\u001b[36m  0.1411200080598672\u001b[39m"
      ]
     },
     "execution_count": 144,
     "metadata": {},
     "output_type": "execute_result"
    }
   ],
   "source": [
    "?@fastmath"
   ]
  },
  {
   "cell_type": "code",
   "execution_count": 145,
   "metadata": {},
   "outputs": [
    {
     "data": {
      "text/latex": [
       "\\begin{verbatim}\n",
       "@inline\n",
       "\\end{verbatim}\n",
       "Give a hint to the compiler that this function is worth inlining.\n",
       "\n",
       "Small functions typically do not need the \\texttt{@inline} annotation, as the compiler does it automatically. By using \\texttt{@inline} on bigger functions, an extra nudge can be given to the compiler to inline it. This is shown in the following example:\n",
       "\n",
       "\\begin{verbatim}\n",
       "@inline function bigfunction(x)\n",
       "    #=\n",
       "        Function Definition\n",
       "    =#\n",
       "end\n",
       "\\end{verbatim}\n"
      ],
      "text/markdown": [
       "```\n",
       "@inline\n",
       "```\n",
       "\n",
       "Give a hint to the compiler that this function is worth inlining.\n",
       "\n",
       "Small functions typically do not need the `@inline` annotation, as the compiler does it automatically. By using `@inline` on bigger functions, an extra nudge can be given to the compiler to inline it. This is shown in the following example:\n",
       "\n",
       "```julia\n",
       "@inline function bigfunction(x)\n",
       "    #=\n",
       "        Function Definition\n",
       "    =#\n",
       "end\n",
       "```\n"
      ],
      "text/plain": [
       "\u001b[36m  @inline\u001b[39m\n",
       "\n",
       "  Give a hint to the compiler that this function is worth inlining.\n",
       "\n",
       "  Small functions typically do not need the \u001b[36m@inline\u001b[39m annotation, as the\n",
       "  compiler does it automatically. By using \u001b[36m@inline\u001b[39m on bigger functions, an\n",
       "  extra nudge can be given to the compiler to inline it. This is shown in the\n",
       "  following example:\n",
       "\n",
       "\u001b[36m  @inline function bigfunction(x)\u001b[39m\n",
       "\u001b[36m      #=\u001b[39m\n",
       "\u001b[36m          Function Definition\u001b[39m\n",
       "\u001b[36m      =#\u001b[39m\n",
       "\u001b[36m  end\u001b[39m"
      ]
     },
     "execution_count": 145,
     "metadata": {},
     "output_type": "execute_result"
    }
   ],
   "source": [
    "?@inline"
   ]
  },
  {
   "cell_type": "code",
   "execution_count": 146,
   "metadata": {},
   "outputs": [
    {
     "data": {
      "text/latex": [
       "\\begin{verbatim}\n",
       "@simd\n",
       "\\end{verbatim}\n",
       "Annotate a \\texttt{for} loop to allow the compiler to take extra liberties to allow loop re-ordering\n",
       "\n",
       "\\begin{quote}\n",
       "\\textbf{warning}\n",
       "\n",
       "Warning\n",
       "\n",
       "This feature is experimental and could change or disappear in future versions of Julia. Incorrect use of the \\texttt{@simd} macro may cause unexpected results.\n",
       "\n",
       "\\end{quote}\n",
       "The object iterated over in a \\texttt{@simd for} loop should be a one-dimensional range. By using \\texttt{@simd}, you are asserting several properties of the loop:\n",
       "\n",
       "\\begin{itemize}\n",
       "\\item It is safe to execute iterations in arbitrary or overlapping order, with special consideration for reduction variables.\n",
       "\n",
       "\n",
       "\\item Floating-point operations on reduction variables can be reordered, possibly causing different results than without \\texttt{@simd}.\n",
       "\n",
       "\\end{itemize}\n",
       "In many cases, Julia is able to automatically vectorize inner for loops without the use of \\texttt{@simd}. Using \\texttt{@simd} gives the compiler a little extra leeway to make it possible in more situations. In either case, your inner loop should have the following properties to allow vectorization:\n",
       "\n",
       "\\begin{itemize}\n",
       "\\item The loop must be an innermost loop\n",
       "\n",
       "\n",
       "\\item The loop body must be straight-line code. Therefore, \\href{@ref}{\\texttt{@inbounds}} is   currently needed for all array accesses. The compiler can sometimes turn   short \\texttt{\\&\\&}, \\texttt{||}, and \\texttt{?:} expressions into straight-line code if it is safe   to evaluate all operands unconditionally. Consider using the \\href{@ref}{\\texttt{ifelse}}   function instead of \\texttt{?:} in the loop if it is safe to do so.\n",
       "\n",
       "\n",
       "\\item Accesses must have a stride pattern and cannot be \"gathers\" (random-index   reads) or \"scatters\" (random-index writes).\n",
       "\n",
       "\n",
       "\\item The stride should be unit stride.\n",
       "\n",
       "\\end{itemize}\n",
       "\\begin{quote}\n",
       "\\textbf{note}\n",
       "\n",
       "Note\n",
       "\n",
       "The \\texttt{@simd} does not assert by default that the loop is completely free of loop-carried memory dependencies, which is an assumption that can easily be violated in generic code. If you are writing non-generic code, you can use \\texttt{@simd ivdep for ... end} to also assert that:\n",
       "\n",
       "\\end{quote}\n",
       "\\begin{itemize}\n",
       "\\item There exists no loop-carried memory dependencies\n",
       "\n",
       "\n",
       "\\item No iteration ever waits on a previous iteration to make forward progress.\n",
       "\n",
       "\\end{itemize}\n"
      ],
      "text/markdown": [
       "```\n",
       "@simd\n",
       "```\n",
       "\n",
       "Annotate a `for` loop to allow the compiler to take extra liberties to allow loop re-ordering\n",
       "\n",
       "!!! warning\n",
       "    This feature is experimental and could change or disappear in future versions of Julia. Incorrect use of the `@simd` macro may cause unexpected results.\n",
       "\n",
       "\n",
       "The object iterated over in a `@simd for` loop should be a one-dimensional range. By using `@simd`, you are asserting several properties of the loop:\n",
       "\n",
       "  * It is safe to execute iterations in arbitrary or overlapping order, with special consideration for reduction variables.\n",
       "  * Floating-point operations on reduction variables can be reordered, possibly causing different results than without `@simd`.\n",
       "\n",
       "In many cases, Julia is able to automatically vectorize inner for loops without the use of `@simd`. Using `@simd` gives the compiler a little extra leeway to make it possible in more situations. In either case, your inner loop should have the following properties to allow vectorization:\n",
       "\n",
       "  * The loop must be an innermost loop\n",
       "  * The loop body must be straight-line code. Therefore, [`@inbounds`](@ref) is   currently needed for all array accesses. The compiler can sometimes turn   short `&&`, `||`, and `?:` expressions into straight-line code if it is safe   to evaluate all operands unconditionally. Consider using the [`ifelse`](@ref)   function instead of `?:` in the loop if it is safe to do so.\n",
       "  * Accesses must have a stride pattern and cannot be \"gathers\" (random-index   reads) or \"scatters\" (random-index writes).\n",
       "  * The stride should be unit stride.\n",
       "\n",
       "!!! note\n",
       "    The `@simd` does not assert by default that the loop is completely free of loop-carried memory dependencies, which is an assumption that can easily be violated in generic code. If you are writing non-generic code, you can use `@simd ivdep for ... end` to also assert that:\n",
       "\n",
       "\n",
       "  * There exists no loop-carried memory dependencies\n",
       "  * No iteration ever waits on a previous iteration to make forward progress.\n"
      ],
      "text/plain": [
       "\u001b[36m  @simd\u001b[39m\n",
       "\n",
       "  Annotate a \u001b[36mfor\u001b[39m loop to allow the compiler to take extra liberties to allow\n",
       "  loop re-ordering\n",
       "\n",
       "\u001b[33m\u001b[1m  │ \u001b[22m\u001b[39m\u001b[33m\u001b[1mWarning\u001b[22m\u001b[39m\n",
       "\u001b[33m\u001b[1m  │\u001b[22m\u001b[39m\n",
       "\u001b[33m\u001b[1m  │\u001b[22m\u001b[39m  This feature is experimental and could change or disappear in\n",
       "\u001b[33m\u001b[1m  │\u001b[22m\u001b[39m  future versions of Julia. Incorrect use of the \u001b[36m@simd\u001b[39m macro may\n",
       "\u001b[33m\u001b[1m  │\u001b[22m\u001b[39m  cause unexpected results.\n",
       "\n",
       "  The object iterated over in a \u001b[36m@simd for\u001b[39m loop should be a one-dimensional\n",
       "  range. By using \u001b[36m@simd\u001b[39m, you are asserting several properties of the loop:\n",
       "\n",
       "    •    It is safe to execute iterations in arbitrary or overlapping\n",
       "        order, with special consideration for reduction variables.\n",
       "\n",
       "    •    Floating-point operations on reduction variables can be reordered,\n",
       "        possibly causing different results than without \u001b[36m@simd\u001b[39m.\n",
       "\n",
       "  In many cases, Julia is able to automatically vectorize inner for loops\n",
       "  without the use of \u001b[36m@simd\u001b[39m. Using \u001b[36m@simd\u001b[39m gives the compiler a little extra\n",
       "  leeway to make it possible in more situations. In either case, your inner\n",
       "  loop should have the following properties to allow vectorization:\n",
       "\n",
       "    •    The loop must be an innermost loop\n",
       "\n",
       "    •    The loop body must be straight-line code. Therefore, \u001b[36m@inbounds\u001b[39m is\n",
       "        currently needed for all array accesses. The compiler can\n",
       "        sometimes turn short \u001b[36m&&\u001b[39m, \u001b[36m||\u001b[39m, and \u001b[36m?:\u001b[39m expressions into straight-line\n",
       "        code if it is safe to evaluate all operands unconditionally.\n",
       "        Consider using the \u001b[36mifelse\u001b[39m function instead of \u001b[36m?:\u001b[39m in the loop if it\n",
       "        is safe to do so.\n",
       "\n",
       "    •    Accesses must have a stride pattern and cannot be \"gathers\"\n",
       "        (random-index reads) or \"scatters\" (random-index writes).\n",
       "\n",
       "    •    The stride should be unit stride.\n",
       "\n",
       "\u001b[36m\u001b[1m  │ \u001b[22m\u001b[39m\u001b[36m\u001b[1mNote\u001b[22m\u001b[39m\n",
       "\u001b[36m\u001b[1m  │\u001b[22m\u001b[39m\n",
       "\u001b[36m\u001b[1m  │\u001b[22m\u001b[39m  The \u001b[36m@simd\u001b[39m does not assert by default that the loop is completely\n",
       "\u001b[36m\u001b[1m  │\u001b[22m\u001b[39m  free of loop-carried memory dependencies, which is an assumption\n",
       "\u001b[36m\u001b[1m  │\u001b[22m\u001b[39m  that can easily be violated in generic code. If you are writing\n",
       "\u001b[36m\u001b[1m  │\u001b[22m\u001b[39m  non-generic code, you can use \u001b[36m@simd ivdep for ... end\u001b[39m to also\n",
       "\u001b[36m\u001b[1m  │\u001b[22m\u001b[39m  assert that:\n",
       "\n",
       "    •    There exists no loop-carried memory dependencies\n",
       "\n",
       "    •    No iteration ever waits on a previous iteration to make forward\n",
       "        progress."
      ]
     },
     "execution_count": 146,
     "metadata": {},
     "output_type": "execute_result"
    }
   ],
   "source": [
    "?@simd"
   ]
  },
  {
   "cell_type": "code",
   "execution_count": 150,
   "metadata": {},
   "outputs": [
    {
     "name": "stdout",
     "output_type": "stream",
     "text": [
      "  94.441 ns (1 allocation: 16 bytes)\n",
      "  754.344 ns (1 allocation: 16 bytes)\n"
     ]
    },
    {
     "data": {
      "text/plain": [
       "7076626732405629251"
      ]
     },
     "execution_count": 150,
     "metadata": {},
     "output_type": "execute_result"
    }
   ],
   "source": [
    "function new_sum(myvec)\n",
    "    s = zero(eltype(myvec))\n",
    "    for i = 1:length(myvec)\n",
    "        s += myvec[i]\n",
    "    end\n",
    "    return s\n",
    "end\n",
    "\n",
    "function new_sum_inbounds(myvec)\n",
    "    s = zero(eltype(myvec))\n",
    "    for i = 1:length(myvec)\n",
    "        @inbounds s += myvec[i]\n",
    "    end\n",
    "    return s\n",
    "end\n",
    "\n",
    "myvec = rand(Int,1000)\n",
    "@btime new_sum_inbounds(myvec)\n",
    "@btime new_sum(myvec)"
   ]
  },
  {
   "cell_type": "code",
   "execution_count": 151,
   "metadata": {},
   "outputs": [
    {
     "name": "stdout",
     "output_type": "stream",
     "text": [
      "  162.238 ns (0 allocations: 0 bytes)\n",
      "  1.109 μs (0 allocations: 0 bytes)\n"
     ]
    }
   ],
   "source": [
    "function axpy!(a,x,y)\n",
    "    @inbounds for i=1:length(x)\n",
    "        y[i] = y[i]+a*x[i] \n",
    "    end\n",
    "end\n",
    "\n",
    "function axpyNoInbounds!(a,x,y)\n",
    "    for i=1:length(x)\n",
    "        y[i] = y[i]+a*x[i] \n",
    "    end\n",
    "end\n",
    "\n",
    "x = rand(ntrials)\n",
    "y = rand(ntrials)\n",
    "@btime axpy!(1,x,y)\n",
    "@btime axpyNoInbounds!(1,x,y)"
   ]
  },
  {
   "cell_type": "code",
   "execution_count": 152,
   "metadata": {},
   "outputs": [
    {
     "name": "stdout",
     "output_type": "stream",
     "text": [
      "  90.207 ns (1 allocation: 16 bytes)\n"
     ]
    },
    {
     "data": {
      "text/plain": [
       "7076626732405629243"
      ]
     },
     "execution_count": 152,
     "metadata": {},
     "output_type": "execute_result"
    }
   ],
   "source": [
    "function new_sum_inbounds_WRONG(myvec::Vector{T}) where T<:Real\n",
    "    s = 0\n",
    "    @inbounds for i = 1:length(myvec)+1\n",
    "        s += myvec[i]\n",
    "    end\n",
    "    return s\n",
    "end\n",
    "@btime new_sum_inbounds_WRONG(myvec)"
   ]
  },
  {
   "cell_type": "markdown",
   "metadata": {},
   "source": [
    "Careful ordering of floating-point operations can be helpful."
   ]
  },
  {
   "cell_type": "code",
   "execution_count": 156,
   "metadata": {},
   "outputs": [
    {
     "name": "stdout",
     "output_type": "stream",
     "text": [
      "\n",
      ";  @ In[156]:3 within `testfastmath'\n",
      "define double @julia_testfastmath_20031(double) {\n",
      "top:\n",
      "; ┌ @ operators.jl:529 within `+' @ promotion.jl:311 @ float.jl:401\n",
      "   %1 = fadd double %0, 1.000000e+00\n",
      "   %2 = fadd double %1, 4.000000e+00\n",
      "; └\n",
      "  ret double %2\n",
      "}\n"
     ]
    }
   ],
   "source": [
    "const xx = 1\n",
    "function testfastmath(i)\n",
    "    y = i+xx+4\n",
    "end\n",
    "@code_llvm testfastmath(1.2)"
   ]
  },
  {
   "cell_type": "code",
   "execution_count": 157,
   "metadata": {},
   "outputs": [
    {
     "name": "stdout",
     "output_type": "stream",
     "text": [
      "\n",
      ";  @ In[157]:2 within `testfastmath_applied'\n",
      "define double @julia_testfastmath_applied_20035(double) {\n",
      "top:\n",
      "; ┌ @ fastmath.jl:263 within `add_fast' @ fastmath.jl:167 @ fastmath.jl:161\n",
      "   %1 = fadd fast double %0, 5.000000e+00\n",
      "; └\n",
      "  ret double %1\n",
      "}\n"
     ]
    }
   ],
   "source": [
    "function testfastmath_applied(i)\n",
    "    @fastmath y = i+xx+4\n",
    "end\n",
    "@code_llvm testfastmath_applied(1.2)"
   ]
  },
  {
   "cell_type": "markdown",
   "metadata": {},
   "source": [
    "`@inline` replaces a called function with its body."
   ]
  },
  {
   "cell_type": "code",
   "execution_count": 158,
   "metadata": {},
   "outputs": [
    {
     "data": {
      "text/plain": [
       "g (generic function with 1 method)"
      ]
     },
     "execution_count": 158,
     "metadata": {},
     "output_type": "execute_result"
    }
   ],
   "source": [
    "@inline f(x,y) = div(x,y)*y \n",
    "g(x) = f(x,2)"
   ]
  },
  {
   "cell_type": "code",
   "execution_count": 159,
   "metadata": {},
   "outputs": [
    {
     "data": {
      "text/plain": [
       "CodeInfo(\n",
       "\u001b[90m1 ─\u001b[39m %1 = Base.checked_sdiv_int(x, 2)\u001b[36m::Int64\u001b[39m\n",
       "\u001b[90m│  \u001b[39m %2 = Base.mul_int(%1, 2)\u001b[36m::Int64\u001b[39m\n",
       "\u001b[90m└──\u001b[39m      return %2\n",
       ") => Int64"
      ]
     },
     "execution_count": 159,
     "metadata": {},
     "output_type": "execute_result"
    }
   ],
   "source": [
    "@code_typed g(1)"
   ]
  },
  {
   "cell_type": "code",
   "execution_count": 160,
   "metadata": {},
   "outputs": [
    {
     "data": {
      "text/plain": [
       "CodeInfo(\n",
       "\u001b[90m1 ─\u001b[39m %1 = invoke Main.f2(_2::Int64, 2::Int64)\u001b[36m::Int64\u001b[39m\n",
       "\u001b[90m└──\u001b[39m      return %1\n",
       ") => Int64"
      ]
     },
     "execution_count": 160,
     "metadata": {},
     "output_type": "execute_result"
    }
   ],
   "source": [
    "@noinline f2(x,y) = div(x,y)*y \n",
    "g2(x) = f2(x,2)\n",
    "@code_typed g2(1)"
   ]
  },
  {
   "cell_type": "code",
   "execution_count": 161,
   "metadata": {},
   "outputs": [
    {
     "data": {
      "text/plain": [
       "CodeInfo(\n",
       "\u001b[90m1 ─\u001b[39m %1 = Base.checked_sdiv_int(x, y)\u001b[36m::Int64\u001b[39m\n",
       "\u001b[90m│  \u001b[39m %2 = Base.mul_int(%1, y)\u001b[36m::Int64\u001b[39m\n",
       "\u001b[90m└──\u001b[39m      return %2\n",
       "\u001b[90m2 ─\u001b[39m      $(Expr(:meta, :noinline))\n",
       ") => Int64"
      ]
     },
     "execution_count": 161,
     "metadata": {},
     "output_type": "execute_result"
    }
   ],
   "source": [
    "@code_typed f2(1,2)"
   ]
  },
  {
   "cell_type": "markdown",
   "metadata": {},
   "source": [
    "Inlining can be a slight win here. But usually the compiler is smart with `@inline` -- you may only need to use it with big functions."
   ]
  },
  {
   "cell_type": "markdown",
   "metadata": {},
   "source": [
    "## 2️⃣0️⃣ [Tools] If you want to see low level versions of your code."
   ]
  },
  {
   "cell_type": "code",
   "execution_count": 162,
   "metadata": {},
   "outputs": [
    {
     "data": {
      "text/plain": [
       "myadd1 (generic function with 1 method)"
      ]
     },
     "execution_count": 162,
     "metadata": {},
     "output_type": "execute_result"
    }
   ],
   "source": [
    "myadd1(x) = x+1"
   ]
  },
  {
   "cell_type": "code",
   "execution_count": 163,
   "metadata": {},
   "outputs": [
    {
     "data": {
      "text/plain": [
       "CodeInfo(\n",
       "\u001b[90m1 ─\u001b[39m %1 = x + 1\n",
       "\u001b[90m└──\u001b[39m      return %1\n",
       ")"
      ]
     },
     "execution_count": 163,
     "metadata": {},
     "output_type": "execute_result"
    }
   ],
   "source": [
    "@code_lowered myadd1(1)"
   ]
  },
  {
   "cell_type": "code",
   "execution_count": 164,
   "metadata": {},
   "outputs": [
    {
     "name": "stdout",
     "output_type": "stream",
     "text": [
      "Variables\n",
      "  #self#\u001b[36m::Core.Compiler.Const(myadd1, false)\u001b[39m\n",
      "  x\u001b[36m::Int64\u001b[39m\n",
      "\n",
      "Body\u001b[36m::Int64\u001b[39m\n",
      "\u001b[90m1 ─\u001b[39m %1 = (x + 1)\u001b[36m::Int64\u001b[39m\n",
      "\u001b[90m└──\u001b[39m      return %1\n"
     ]
    }
   ],
   "source": [
    "@code_warntype myadd1(1)"
   ]
  },
  {
   "cell_type": "code",
   "execution_count": 165,
   "metadata": {},
   "outputs": [
    {
     "data": {
      "text/plain": [
       "CodeInfo(\n",
       "\u001b[90m1 ─\u001b[39m %1 = Base.add_int(x, 1)\u001b[36m::Int64\u001b[39m\n",
       "\u001b[90m└──\u001b[39m      return %1\n",
       ") => Int64"
      ]
     },
     "execution_count": 165,
     "metadata": {},
     "output_type": "execute_result"
    }
   ],
   "source": [
    "@code_typed myadd1(1)"
   ]
  },
  {
   "cell_type": "code",
   "execution_count": 166,
   "metadata": {},
   "outputs": [
    {
     "name": "stdout",
     "output_type": "stream",
     "text": [
      "\n",
      ";  @ In[162]:1 within `myadd1'\n",
      "define i64 @julia_myadd1_20196(i64) {\n",
      "top:\n",
      "; ┌ @ int.jl:53 within `+'\n",
      "   %1 = add i64 %0, 1\n",
      "; └\n",
      "  ret i64 %1\n",
      "}\n"
     ]
    }
   ],
   "source": [
    "@code_llvm myadd1(1)"
   ]
  },
  {
   "cell_type": "code",
   "execution_count": 167,
   "metadata": {},
   "outputs": [
    {
     "name": "stdout",
     "output_type": "stream",
     "text": [
      "\t.section\t__TEXT,__text,regular,pure_instructions\n",
      "; ┌ @ In[162]:1 within `myadd1'\n",
      "; │┌ @ In[162]:1 within `+'\n",
      "\tleaq\t1(%rdi), %rax\n",
      "; │└\n",
      "\tretq\n",
      "\tnopw\t%cs:(%rax,%rax)\n",
      "\tnop\n",
      "; └\n"
     ]
    }
   ],
   "source": [
    "@code_native myadd1(1)"
   ]
  },
  {
   "cell_type": "code",
   "execution_count": null,
   "metadata": {},
   "outputs": [],
   "source": []
  }
 ],
 "metadata": {
  "kernelspec": {
   "display_name": "Julia 1.4.0",
   "language": "julia",
   "name": "julia-1.4"
  },
  "language_info": {
   "file_extension": ".jl",
   "mimetype": "application/julia",
   "name": "julia",
   "version": "1.4.2"
  }
 },
 "nbformat": 4,
 "nbformat_minor": 2
}
